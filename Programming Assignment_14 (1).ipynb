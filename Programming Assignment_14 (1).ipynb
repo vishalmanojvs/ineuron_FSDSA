{
 "cells": [
  {
   "cell_type": "markdown",
   "id": "9bf47949",
   "metadata": {},
   "source": [
    "## Python Basic Programming Assignment - 14\n",
    "---------------------"
   ]
  },
  {
   "cell_type": "markdown",
   "id": "a8074819",
   "metadata": {},
   "source": [
    "### 1. Define a class with a generator which can iterate the numbers, which are divisible by 7, between a given range 0 and n."
   ]
  },
  {
   "cell_type": "code",
   "execution_count": 1,
   "id": "233a3289",
   "metadata": {},
   "outputs": [
    {
     "name": "stdout",
     "output_type": "stream",
     "text": [
      "Enter the upper limit (n): 8\n",
      "Numbers divisible by 7 between 0 and 8 :\n",
      "0\n",
      "7\n"
     ]
    }
   ],
   "source": [
    "class DivisibleBySevenGenerator:\n",
    "    def __init__(self, n):\n",
    "        self.n = n\n",
    "\n",
    "    def generate_divisible_by_seven(self):\n",
    "        for i in range(self.n + 1):\n",
    "            if i % 7 == 0:\n",
    "                yield i\n",
    "\n",
    "# Example usage\n",
    "n = int(input(\"Enter the upper limit (n): \"))\n",
    "divisible_by_seven_generator = DivisibleBySevenGenerator(n)\n",
    "generator = divisible_by_seven_generator.generate_divisible_by_seven()\n",
    "\n",
    "print(\"Numbers divisible by 7 between 0 and\", n, \":\")\n",
    "for number in generator:\n",
    "    print(number)"
   ]
  },
  {
   "cell_type": "markdown",
   "id": "8127371b",
   "metadata": {},
   "source": [
    "\n",
    "### 2. Write a program to compute the frequency of the words from the input. The output should output after sorting the key alphanumerically."
   ]
  },
  {
   "cell_type": "code",
   "execution_count": 2,
   "id": "0076038b",
   "metadata": {},
   "outputs": [
    {
     "name": "stdout",
     "output_type": "stream",
     "text": [
      "Enter a sentence: SIM IS NOT WORKING\n",
      "Word frequencies (sorted alphabetically):\n",
      "IS : 1\n",
      "NOT : 1\n",
      "SIM : 1\n",
      "WORKING : 1\n"
     ]
    }
   ],
   "source": [
    "def word_frequency(input_sentence):\n",
    "    # Split the input sentence into words\n",
    "    words = input_sentence.split()\n",
    "\n",
    "    # Create an empty dictionary to store word frequencies\n",
    "    frequency_dict = {}\n",
    "\n",
    "    # Count the frequency of each word\n",
    "    for word in words:\n",
    "        frequency_dict[word] = frequency_dict.get(word, 0) + 1\n",
    "\n",
    "    # Sort the dictionary keys alphabetically\n",
    "    sorted_words = sorted(frequency_dict.keys())\n",
    "\n",
    "    # Print the word-frequency pairs\n",
    "    for word in sorted_words:\n",
    "        print(word, \":\", frequency_dict[word])\n",
    "\n",
    "# Input sentence\n",
    "input_sentence = input(\"Enter a sentence: \")\n",
    "\n",
    "# Compute word frequency and print the result\n",
    "print(\"Word frequencies (sorted alphabetically):\")\n",
    "word_frequency(input_sentence)"
   ]
  },
  {
   "cell_type": "markdown",
   "id": "4e869c3c",
   "metadata": {},
   "source": [
    "\n",
    "### 3. Define a class Person and its two child classes: Male and Female. All classes have a method \"getGender\" which can print \"Male\" for Male class and \"Female\" for Female class."
   ]
  },
  {
   "cell_type": "code",
   "execution_count": 3,
   "id": "d6e87f76",
   "metadata": {},
   "outputs": [
    {
     "name": "stdout",
     "output_type": "stream",
     "text": [
      "Person 1 is: Male\n",
      "Person 2 is: Female\n"
     ]
    }
   ],
   "source": [
    "class Person:\n",
    "    def getGender(self):\n",
    "        return \"Unknown\"\n",
    "\n",
    "class Male(Person):\n",
    "    def getGender(self):\n",
    "        return \"Male\"\n",
    "\n",
    "class Female(Person):\n",
    "    def getGender(self):\n",
    "        return \"Female\"\n",
    "\n",
    "# Example usage\n",
    "person1 = Male()\n",
    "person2 = Female()\n",
    "\n",
    "print(\"Person 1 is:\", person1.getGender())\n",
    "print(\"Person 2 is:\", person2.getGender())"
   ]
  },
  {
   "cell_type": "markdown",
   "id": "58b5940f",
   "metadata": {},
   "source": [
    "\n",
    "### 4. Please write a program to generate all sentences where subject is in [\"I\", \"You\"] and verb is in ['Play', \"Love\"] and the object is in [\"Hockey\",\"Football\"]."
   ]
  },
  {
   "cell_type": "code",
   "execution_count": 4,
   "id": "3eae29b7",
   "metadata": {},
   "outputs": [
    {
     "name": "stdout",
     "output_type": "stream",
     "text": [
      "I Play Hockey.\n",
      "I Play Football.\n",
      "I Love Hockey.\n",
      "I Love Football.\n",
      "You Play Hockey.\n",
      "You Play Football.\n",
      "You Love Hockey.\n",
      "You Love Football.\n"
     ]
    }
   ],
   "source": [
    "subjects = [\"I\", \"You\"]\n",
    "verbs = [\"Play\", \"Love\"]\n",
    "objects = [\"Hockey\", \"Football\"]\n",
    "\n",
    "# Generate all sentences\n",
    "sentences = []\n",
    "for subject in subjects:\n",
    "    for verb in verbs:\n",
    "        for obj in objects:\n",
    "            sentence = f\"{subject} {verb} {obj}.\"\n",
    "            sentences.append(sentence)\n",
    "\n",
    "# Print all generated sentences\n",
    "for sentence in sentences:\n",
    "    print(sentence)"
   ]
  },
  {
   "cell_type": "markdown",
   "id": "0ddf4f59",
   "metadata": {},
   "source": [
    "\n",
    "### 5. Please write a program to compress and decompress the string \"hello world!hello world!hello world!hello world!\""
   ]
  },
  {
   "cell_type": "code",
   "execution_count": 5,
   "id": "38c2bff2",
   "metadata": {},
   "outputs": [
    {
     "name": "stdout",
     "output_type": "stream",
     "text": [
      "Compressed string: h1e1l2o1 1w1o1r1l1d1!1h1e1l2o1 1w1o1r1l1d1!1h1e1l2o1 1w1o1r1l1d1!1h1e1l2o1 1w1o1r1l1d1!1\n",
      "Decompressed string: hello world!hello world!hello world!hello world!\n"
     ]
    }
   ],
   "source": [
    "def compress_string(s):\n",
    "    compressed = \"\"\n",
    "    count = 1\n",
    "    for i in range(1, len(s)):\n",
    "        if s[i] == s[i - 1]:\n",
    "            count += 1\n",
    "        else:\n",
    "            compressed += s[i - 1] + str(count)\n",
    "            count = 1\n",
    "    compressed += s[-1] + str(count)\n",
    "    return compressed\n",
    "\n",
    "def decompress_string(compressed):\n",
    "    decompressed = \"\"\n",
    "    i = 0\n",
    "    while i < len(compressed):\n",
    "        char = compressed[i]\n",
    "        count = int(compressed[i + 1])\n",
    "        decompressed += char * count\n",
    "        i += 2\n",
    "    return decompressed\n",
    "\n",
    "# Example usage\n",
    "original_string = \"hello world!hello world!hello world!hello world!\"\n",
    "compressed_string = compress_string(original_string)\n",
    "print(\"Compressed string:\", compressed_string)\n",
    "\n",
    "decompressed_string = decompress_string(compressed_string)\n",
    "print(\"Decompressed string:\", decompressed_string)"
   ]
  },
  {
   "cell_type": "markdown",
   "id": "2aeb595b",
   "metadata": {},
   "source": [
    "\n",
    "### 6. Please write a binary search function which searches an item in a sorted list. The function should return the index of element to be searched in the list."
   ]
  },
  {
   "cell_type": "code",
   "execution_count": 6,
   "id": "027fb740",
   "metadata": {},
   "outputs": [
    {
     "name": "stdout",
     "output_type": "stream",
     "text": [
      "The item 13 is found at index 6.\n"
     ]
    }
   ],
   "source": [
    "def binary_search(arr, item):\n",
    "    low = 0\n",
    "    high = len(arr) - 1\n",
    "\n",
    "    while low <= high:\n",
    "        mid = (low + high) // 2\n",
    "        guess = arr[mid]\n",
    "        \n",
    "        if guess == item:\n",
    "            return mid\n",
    "        elif guess < item:\n",
    "            low = mid + 1\n",
    "        else:\n",
    "            high = mid - 1\n",
    "\n",
    "    return -1  # If item is not found in the list\n",
    "\n",
    "# Example usage:\n",
    "sorted_list = [1, 3, 5, 7, 9, 11, 13, 15, 17, 19]\n",
    "item_to_search = 13\n",
    "index = binary_search(sorted_list, item_to_search)\n",
    "\n",
    "if index != -1:\n",
    "    print(f\"The item {item_to_search} is found at index {index}.\")\n",
    "else:\n",
    "    print(f\"The item {item_to_search} is not found in the list.\")"
   ]
  },
  {
   "cell_type": "code",
   "execution_count": null,
   "id": "8530b68f",
   "metadata": {},
   "outputs": [],
   "source": []
  }
 ],
 "metadata": {
  "kernelspec": {
   "display_name": "Python 3",
   "language": "python",
   "name": "python3"
  },
  "language_info": {
   "codemirror_mode": {
    "name": "ipython",
    "version": 3
   },
   "file_extension": ".py",
   "mimetype": "text/x-python",
   "name": "python",
   "nbconvert_exporter": "python",
   "pygments_lexer": "ipython3",
   "version": "3.8.8"
  }
 },
 "nbformat": 4,
 "nbformat_minor": 5
}
