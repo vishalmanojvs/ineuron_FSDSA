{
 "cells": [
  {
   "cell_type": "markdown",
   "id": "637b47a5",
   "metadata": {},
   "source": [
    "## Programming Assignment_1\n",
    "-------------"
   ]
  },
  {
   "cell_type": "markdown",
   "id": "0c647dbe",
   "metadata": {},
   "source": [
    "### 1. Write a Python program to print \"Hello Python\"?"
   ]
  },
  {
   "cell_type": "code",
   "execution_count": 1,
   "id": "adb70e76",
   "metadata": {},
   "outputs": [
    {
     "name": "stdout",
     "output_type": "stream",
     "text": [
      "Hello Python\n"
     ]
    }
   ],
   "source": [
    "print(\"Hello Python\")"
   ]
  },
  {
   "cell_type": "markdown",
   "id": "fc18a6cd",
   "metadata": {},
   "source": [
    "### 2. Write a Python program to do arithmetical operations addition and division.?\n"
   ]
  },
  {
   "cell_type": "code",
   "execution_count": 3,
   "id": "e82bfa69",
   "metadata": {},
   "outputs": [
    {
     "name": "stdout",
     "output_type": "stream",
     "text": [
      "-3\n",
      "54\n",
      "15\n",
      "0.6666666666666666\n"
     ]
    }
   ],
   "source": [
    "def add (a,b):\n",
    "    c=a+b\n",
    "    print (c)\n",
    "    \n",
    "def div (a,b):\n",
    "    c=a/b\n",
    "    print (c)\n",
    "    \n",
    "def mul (a,b):\n",
    "    c=a*b\n",
    "    print (c)\n",
    "    \n",
    "def sub (a,b):\n",
    "    c=a-b\n",
    "    print (c)\n",
    "    \n",
    "sub(6,9)\n",
    "mul(6,9)\n",
    "add(6,9)\n",
    "div(6,9)"
   ]
  },
  {
   "cell_type": "markdown",
   "id": "af6e2429",
   "metadata": {},
   "source": [
    "### 3. Write a Python program to find the area of a triangle?\n"
   ]
  },
  {
   "cell_type": "code",
   "execution_count": 10,
   "id": "dcee20fe",
   "metadata": {},
   "outputs": [
    {
     "name": "stdout",
     "output_type": "stream",
     "text": [
      "Enter the base of the triangle: 9\n",
      "Enter the height of the triangle: 6\n",
      "**************************************************\n",
      "The area of the triangle having base 9 and height 6 is: 27.0\n",
      "**************************************************\n"
     ]
    }
   ],
   "source": [
    "b= int(input('Enter the base of the triangle: '))\n",
    "h= int(input('Enter the height of the triangle: '))\n",
    "print(\"*\"*50)\n",
    "print (\"The area of the triangle having base {} and height {} is: {}\". format (b,h,(0.5*b*h)))\n",
    "print(\"*\"*50)"
   ]
  },
  {
   "cell_type": "markdown",
   "id": "b8140061",
   "metadata": {},
   "source": [
    "### 4. Write a Python program to swap two variables?\n"
   ]
  },
  {
   "cell_type": "code",
   "execution_count": 13,
   "id": "7c52627b",
   "metadata": {},
   "outputs": [
    {
     "data": {
      "text/plain": [
       "(6, 5)"
      ]
     },
     "execution_count": 13,
     "metadata": {},
     "output_type": "execute_result"
    }
   ],
   "source": [
    "def temp(a, b):\n",
    "    temp = a\n",
    "    a = b\n",
    "    b = temp\n",
    "    return a, b\n",
    "\n",
    "temp(5, 6)"
   ]
  },
  {
   "cell_type": "markdown",
   "id": "3f8054c1",
   "metadata": {},
   "source": [
    "### 5. Write a Python program to generate a random number?\n"
   ]
  },
  {
   "cell_type": "code",
   "execution_count": 14,
   "id": "fec740a6",
   "metadata": {},
   "outputs": [
    {
     "name": "stdout",
     "output_type": "stream",
     "text": [
      "Random Number is :  51\n"
     ]
    }
   ],
   "source": [
    "import random\n",
    "\n",
    "# Generate a random integer between a specified range\n",
    "random_number = random.randint(1, 100)\n",
    "\n",
    "print(\"Random Number is : \", random_number)"
   ]
  },
  {
   "cell_type": "code",
   "execution_count": null,
   "id": "2ee3753b",
   "metadata": {},
   "outputs": [],
   "source": []
  }
 ],
 "metadata": {
  "kernelspec": {
   "display_name": "Python 3",
   "language": "python",
   "name": "python3"
  },
  "language_info": {
   "codemirror_mode": {
    "name": "ipython",
    "version": 3
   },
   "file_extension": ".py",
   "mimetype": "text/x-python",
   "name": "python",
   "nbconvert_exporter": "python",
   "pygments_lexer": "ipython3",
   "version": "3.8.8"
  }
 },
 "nbformat": 4,
 "nbformat_minor": 5
}
