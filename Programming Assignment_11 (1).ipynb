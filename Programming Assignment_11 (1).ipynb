{
 "cells": [
  {
   "cell_type": "markdown",
   "id": "53c7e882",
   "metadata": {},
   "source": [
    "# Python Basic Programming Assignment 11\n",
    "--------------------"
   ]
  },
  {
   "cell_type": "markdown",
   "id": "051da140",
   "metadata": {},
   "source": [
    "### 1. Write a Python program to find words which are greater than given length k?"
   ]
  },
  {
   "cell_type": "code",
   "execution_count": 8,
   "id": "31fff042",
   "metadata": {},
   "outputs": [
    {
     "name": "stdout",
     "output_type": "stream",
     "text": [
      "Words longer than 4 characters: ['sample', 'string', 'words']\n"
     ]
    }
   ],
   "source": [
    "def find_long_words(input_string, k):\n",
    "    # Split the string into a list of words\n",
    "    words_list = input_string.split()\n",
    "\n",
    "    # Filter the words based on the given length 'k'\n",
    "    long_words = [word for word in words_list if len(word) > k]\n",
    "\n",
    "    return long_words\n",
    "\n",
    "input_string = \"This is a sample string with some long words\"\n",
    "k = 4\n",
    "\n",
    "result = find_long_words(input_string, k)\n",
    "\n",
    "print(f\"Words longer than {k} characters: {result}\")\n"
   ]
  },
  {
   "cell_type": "markdown",
   "id": "26719cbd",
   "metadata": {},
   "source": [
    "### 2. Write a Python program for removing i-th character from a string?"
   ]
  },
  {
   "cell_type": "code",
   "execution_count": 9,
   "id": "cbeebb49",
   "metadata": {},
   "outputs": [
    {
     "name": "stdout",
     "output_type": "stream",
     "text": [
      "Original string: example\n",
      "String after removing character at index 2: exmple\n"
     ]
    }
   ],
   "source": [
    "def remove_ith_character(input_string, i):\n",
    "    # Check if the index is valid\n",
    "    if 0 <= i < len(input_string):\n",
    "        # Remove the i-th character using string slicing\n",
    "        modified_string = input_string[:i] + input_string[i+1:]\n",
    "        return modified_string\n",
    "    else:\n",
    "        print(\"Invalid index. Please provide a valid index.\")\n",
    "\n",
    "input_string = \"example\"\n",
    "index_to_remove = 2\n",
    "\n",
    "result = remove_ith_character(input_string, index_to_remove)\n",
    "\n",
    "print(f\"Original string: {input_string}\")\n",
    "print(f\"String after removing character at index {index_to_remove}: {result}\")\n"
   ]
  },
  {
   "cell_type": "markdown",
   "id": "51ae6b0f",
   "metadata": {},
   "source": [
    "### 3. Write a Python program to split and join a string?"
   ]
  },
  {
   "cell_type": "code",
   "execution_count": 7,
   "id": "13244860",
   "metadata": {},
   "outputs": [
    {
     "name": "stdout",
     "output_type": "stream",
     "text": [
      "Original string: This is a sample string\n",
      "Split words: ['This', 'is', 'a', 'sample', 'string']\n",
      "Joined string: This-is-a-sample-string\n"
     ]
    }
   ],
   "source": [
    "def split_and_join(input_string):\n",
    "    # Split the string into a list of words using the space character as a delimiter\n",
    "    words_list = input_string.split()\n",
    "\n",
    "    # Join the list of words into a new string using a dash ('-') as a separator\n",
    "    joined_string = '-'.join(words_list)\n",
    "\n",
    "    return words_list, joined_string\n",
    "\n",
    "\n",
    "input_string = \"This is a sample string\"\n",
    "split_words, joined_string = split_and_join(input_string)\n",
    "\n",
    "print(\"Original string:\", input_string)\n",
    "print(\"Split words:\", split_words)\n",
    "print(\"Joined string:\", joined_string)"
   ]
  },
  {
   "cell_type": "markdown",
   "id": "59079fe1",
   "metadata": {},
   "source": [
    "### 4. Write a Python to check if a given string is binary string or not?"
   ]
  },
  {
   "cell_type": "code",
   "execution_count": 10,
   "id": "37538eb7",
   "metadata": {},
   "outputs": [
    {
     "name": "stdout",
     "output_type": "stream",
     "text": [
      "1010101 is a binary string.\n",
      "1201101 is not a binary string.\n"
     ]
    }
   ],
   "source": [
    "def is_binary_string(input_string):\n",
    "    # Set of valid binary digits\n",
    "    valid_binary_digits = {'0', '1'}\n",
    "\n",
    "    # Check if all characters in the string are valid binary digits\n",
    "    return all(char in valid_binary_digits for char in input_string)\n",
    "\n",
    "\n",
    "binary_string = \"1010101\"\n",
    "non_binary_string = \"1201101\"\n",
    "\n",
    "if is_binary_string(binary_string):\n",
    "    print(f\"{binary_string} is a binary string.\")\n",
    "else:\n",
    "    print(f\"{binary_string} is not a binary string.\")\n",
    "\n",
    "if is_binary_string(non_binary_string):\n",
    "    print(f\"{non_binary_string} is a binary string.\")\n",
    "else:\n",
    "    print(f\"{non_binary_string} is not a binary string.\")"
   ]
  },
  {
   "cell_type": "markdown",
   "id": "4d6cf11a",
   "metadata": {},
   "source": [
    "### 5. Write a Python program to find uncommon words from two Strings?"
   ]
  },
  {
   "cell_type": "code",
   "execution_count": 12,
   "id": "fc71fa56",
   "metadata": {},
   "outputs": [
    {
     "name": "stdout",
     "output_type": "stream",
     "text": [
      "Uncommon words: words, different, some, second, first, with\n"
     ]
    }
   ],
   "source": [
    "def find_uncommon_words(str1, str2):\n",
    "    # Split the strings into lists of words\n",
    "    words_list1 = str1.split()\n",
    "    words_list2 = str2.split()\n",
    "\n",
    "    # Find uncommon words using set operations\n",
    "    uncommon_words = set(words_list1) ^ set(words_list2)\n",
    "\n",
    "    return list(uncommon_words)\n",
    "\n",
    "\n",
    "string1 = \"This is the first string\"\n",
    "string2 = \"This is the second string with some different words\"\n",
    "\n",
    "result = find_uncommon_words(string1, string2)\n",
    "\n",
    "if result:\n",
    "    print(f\"Uncommon words: {', '.join(result)}\")\n",
    "else:\n",
    "    print(\"No uncommon words found.\")\n"
   ]
  },
  {
   "cell_type": "markdown",
   "id": "e2b24677",
   "metadata": {},
   "source": [
    "### 6. Write a Python to find all duplicate characters in string?"
   ]
  },
  {
   "cell_type": "code",
   "execution_count": 11,
   "id": "ce6ce044",
   "metadata": {},
   "outputs": [
    {
     "name": "stdout",
     "output_type": "stream",
     "text": [
      "Duplicate characters in 'programming': r, g, m\n"
     ]
    }
   ],
   "source": [
    "def find_duplicate_characters(input_string):\n",
    "    # Create an empty dictionary to store character frequencies\n",
    "    char_count = {}\n",
    "\n",
    "    # Iterate through each character in the string\n",
    "    for char in input_string:\n",
    "        # Increment the count for each character in the dictionary\n",
    "        char_count[char] = char_count.get(char, 0) + 1\n",
    "\n",
    "    # Filter characters with count greater than 1 (duplicates)\n",
    "    duplicates = [char for char, count in char_count.items() if count > 1]\n",
    "\n",
    "    return duplicates\n",
    "\n",
    "\n",
    "input_string = \"programming\"\n",
    "\n",
    "result = find_duplicate_characters(input_string)\n",
    "\n",
    "if result:\n",
    "    print(f\"Duplicate characters in '{input_string}': {', '.join(result)}\")\n",
    "else:\n",
    "    print(f\"No duplicate characters found in '{input_string}'.\")\n"
   ]
  },
  {
   "cell_type": "markdown",
   "id": "1a6af7e4",
   "metadata": {},
   "source": [
    "### 7. Write a Python Program to check if a string contains any special character?"
   ]
  },
  {
   "cell_type": "code",
   "execution_count": 13,
   "id": "85bd832a",
   "metadata": {},
   "outputs": [
    {
     "name": "stdout",
     "output_type": "stream",
     "text": [
      "Hello World! contains special characters.\n",
      "Python123 does not contain special characters.\n"
     ]
    }
   ],
   "source": [
    "def has_special_character(input_string):\n",
    "    # Define a set of special characters\n",
    "    special_characters = set(\"!@#$%^&*()-_+=[]{}|;:'\\\",.<>?/`~\")\n",
    "\n",
    "    # Check if any character in the string is a special character\n",
    "    return any(char in special_characters for char in input_string)\n",
    "\n",
    "\n",
    "test_string1 = \"Hello World!\"\n",
    "test_string2 = \"Python123\"\n",
    "\n",
    "if has_special_character(test_string1):\n",
    "    print(f\"{test_string1} contains special characters.\")\n",
    "else:\n",
    "    print(f\"{test_string1} does not contain special characters.\")\n",
    "\n",
    "if has_special_character(test_string2):\n",
    "    print(f\"{test_string2} contains special characters.\")\n",
    "else:\n",
    "    print(f\"{test_string2} does not contain special characters.\")\n"
   ]
  },
  {
   "cell_type": "code",
   "execution_count": null,
   "id": "de14ed22",
   "metadata": {},
   "outputs": [],
   "source": []
  }
 ],
 "metadata": {
  "kernelspec": {
   "display_name": "Python 3",
   "language": "python",
   "name": "python3"
  },
  "language_info": {
   "codemirror_mode": {
    "name": "ipython",
    "version": 3
   },
   "file_extension": ".py",
   "mimetype": "text/x-python",
   "name": "python",
   "nbconvert_exporter": "python",
   "pygments_lexer": "ipython3",
   "version": "3.8.8"
  }
 },
 "nbformat": 4,
 "nbformat_minor": 5
}
