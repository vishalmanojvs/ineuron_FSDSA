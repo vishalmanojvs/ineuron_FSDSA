{
 "cells": [
  {
   "cell_type": "markdown",
   "id": "84a41a9f",
   "metadata": {},
   "source": [
    "# Programming Basic Assignment 6"
   ]
  },
  {
   "cell_type": "markdown",
   "id": "a4b40558",
   "metadata": {},
   "source": [
    "### 1. Write a Python Program to Display Fibonacci Sequence Using Recursion?"
   ]
  },
  {
   "cell_type": "code",
   "execution_count": 7,
   "id": "05d9901f",
   "metadata": {},
   "outputs": [
    {
     "name": "stdout",
     "output_type": "stream",
     "text": [
      "*-**-**-**-**-**-**-**-**-**-**-**-**-**-**-**-**-**-**-**-**-**-**-**-**-*\n",
      "Enter the number of terms in the Fibonacci sequence: 5\n",
      "*-**-**-**-**-**-**-**-**-**-**-**-**-**-**-**-**-**-**-**-**-**-**-**-**-*\n",
      "Fibonacci Sequence:\n",
      "0 1 1 2 3 "
     ]
    }
   ],
   "source": [
    "def fibonacci(n):\n",
    "    if n <= 0:\n",
    "        return \"Invalid input. Please enter a positive integer.\"\n",
    "    elif n == 1:\n",
    "        return 0\n",
    "    elif n == 2:\n",
    "        return 1\n",
    "    else:\n",
    "        return fibonacci(n-1) + fibonacci(n-2)\n",
    "\n",
    "\n",
    "def display_fibonacci_sequence(num_terms):\n",
    "    if num_terms <= 0:\n",
    "        print(\"Invalid input. Please enter a positive integer.\")\n",
    "    else:\n",
    "        print(\"Fibonacci Sequence:\")\n",
    "        for i in range(1, num_terms + 1):\n",
    "            print(fibonacci(i), end=\" \")\n",
    "\n",
    "# Example usage\n",
    "print('*-*'*25)\n",
    "num_terms = int(input(\"Enter the number of terms in the Fibonacci sequence: \"))\n",
    "print('*-*'*25)\n",
    "display_fibonacci_sequence(num_terms)"
   ]
  },
  {
   "cell_type": "markdown",
   "id": "d7a57f60",
   "metadata": {},
   "source": [
    "### 2. Write a Python Program to Find Factorial of Number Using Recursion?"
   ]
  },
  {
   "cell_type": "code",
   "execution_count": 13,
   "id": "cd3e9a75",
   "metadata": {},
   "outputs": [
    {
     "name": "stdout",
     "output_type": "stream",
     "text": [
      "*-**-**-**-**-**-**-**-**-**-**-**-**-**-**-**-**-**-**-**-**-**-**-**-**-*\n",
      "Enter a non-negative integer to find its factorial: 5\n",
      "*-**-**-**-**-**-**-**-**-**-**-**-**-**-**-**-**-**-**-**-**-**-**-**-**-*\n",
      "The factorial of 5 is: 120\n"
     ]
    }
   ],
   "source": [
    "def factorial(n):\n",
    "    if n == 0 or n == 1:\n",
    "        return 1\n",
    "    else:\n",
    "        return n * factorial(n-1)\n",
    "\n",
    "# Example usage\n",
    "try:\n",
    "    print('*-*'*25)\n",
    "    num = int(input(\"Enter a non-negative integer to find its factorial: \"))\n",
    "    if num < 0:\n",
    "        print(\"Please enter a non-negative integer.\")\n",
    "    else:\n",
    "        result = factorial(num)\n",
    "        print('*-*'*25)\n",
    "        print(f\"The factorial of {num} is: {result}\")\n",
    "except ValueError:\n",
    "    print(\"Invalid input. Please enter a valid non-negative integer.\")\n"
   ]
  },
  {
   "cell_type": "markdown",
   "id": "0357b86f",
   "metadata": {},
   "source": [
    "### 3. Write a Python Program to calculate your Body Mass Index?"
   ]
  },
  {
   "cell_type": "code",
   "execution_count": 14,
   "id": "629e09f7",
   "metadata": {},
   "outputs": [
    {
     "name": "stdout",
     "output_type": "stream",
     "text": [
      "*-**-**-**-**-**-**-**-**-**-**-**-**-**-**-**-**-**-**-**-**-**-**-**-**-*\n",
      "Enter your weight in kilograms: 5\n",
      "Enter your height in meters: 8.9\n",
      "*-**-**-**-**-**-**-**-**-**-**-**-**-**-**-**-**-**-**-**-**-**-**-**-**-*\n",
      "*-**-**-**-**-**-**-**-**-**-**-**-**-**-**-**-**-**-**-**-**-**-**-**-**-*\n",
      "*-**-**-**-**-**-**-**-**-**-**-**-**-**-**-**-**-**-**-**-**-**-**-**-**-*\n",
      "Your Body Mass Index (BMI) is: 0.06\n"
     ]
    }
   ],
   "source": [
    "def calculate_bmi(weight, height):\n",
    "    if weight <= 0 or height <= 0:\n",
    "        return \"Invalid input. Please enter valid positive values for weight and height.\"\n",
    "    else:\n",
    "        bmi = weight / (height ** 2)\n",
    "        return bmi\n",
    "\n",
    "# Example usage\n",
    "try:\n",
    "    print('*-*'*25)\n",
    "    weight = float(input(\"Enter your weight in kilograms: \"))\n",
    "    height = float(input(\"Enter your height in meters: \"))\n",
    "    print('*-*'*25)\n",
    "    result = calculate_bmi(weight, height)\n",
    "    print('*-*'*25)\n",
    "    if isinstance(result, str):\n",
    "        print(result)\n",
    "    else:\n",
    "        print('*-*'*25)\n",
    "        print(f\"Your Body Mass Index (BMI) is: {result:.2f}\")\n",
    "except ValueError:\n",
    "    print(\"Invalid input. Please enter valid numerical values for weight and height.\")\n"
   ]
  },
  {
   "cell_type": "markdown",
   "id": "96d344a4",
   "metadata": {},
   "source": [
    "### 4. Write a Python Program to calculate the natural logarithm of any number?"
   ]
  },
  {
   "cell_type": "code",
   "execution_count": 8,
   "id": "7d531e0f",
   "metadata": {},
   "outputs": [
    {
     "name": "stdout",
     "output_type": "stream",
     "text": [
      "Enter a positive number to calculate its natural logarithm: 5\n",
      "The natural logarithm of 5.0 is: 1.6094379124341003\n"
     ]
    }
   ],
   "source": [
    "import math\n",
    "\n",
    "try:\n",
    "    num = float(input(\"Enter a positive number to calculate its natural logarithm: \"))\n",
    "    if num <= 0:\n",
    "        print(\"Please enter a positive number.\")\n",
    "    else:\n",
    "        result = math.log(num)\n",
    "        print(f\"The natural logarithm of {num} is: {result}\")\n",
    "except ValueError:\n",
    "    print(\"Invalid input. Please enter a valid positive number.\")"
   ]
  },
  {
   "cell_type": "markdown",
   "id": "11c0d92c",
   "metadata": {},
   "source": [
    "\n",
    "### 5. Write a Python Program for cube sum of first n natural numbers?\n"
   ]
  },
  {
   "cell_type": "code",
   "execution_count": 15,
   "id": "657d8ad3",
   "metadata": {},
   "outputs": [
    {
     "name": "stdout",
     "output_type": "stream",
     "text": [
      "*-**-**-**-**-**-**-**-**-**-**-**-**-**-**-**-**-**-**-**-**-**-**-**-**-*\n",
      "Enter the value of n to calculate the cube sum of first n natural numbers: 5\n",
      "*-**-**-**-**-**-**-**-**-**-**-**-**-**-**-**-**-**-**-**-**-**-**-**-**-*\n",
      "The cube sum of the first 5 natural numbers is: 225\n"
     ]
    }
   ],
   "source": [
    "def cube_sum(n):\n",
    "    if n <= 0:\n",
    "        return \"Invalid input. Please enter a positive integer.\"\n",
    "    else:\n",
    "        return sum(i**3 for i in range(1, n+1))\n",
    "\n",
    "# Example usage\n",
    "try:\n",
    "    print('*-*'*25)\n",
    "    num_terms = int(input(\"Enter the value of n to calculate the cube sum of first n natural numbers: \"))\n",
    "    print('*-*'*25)\n",
    "    result = cube_sum(num_terms)\n",
    "    print(f\"The cube sum of the first {num_terms} natural numbers is: {result}\")\n",
    "except ValueError:\n",
    "    print(\"Invalid input. Please enter a valid positive integer.\")"
   ]
  },
  {
   "cell_type": "code",
   "execution_count": null,
   "id": "bc24bfd3",
   "metadata": {},
   "outputs": [],
   "source": []
  }
 ],
 "metadata": {
  "kernelspec": {
   "display_name": "Python 3",
   "language": "python",
   "name": "python3"
  },
  "language_info": {
   "codemirror_mode": {
    "name": "ipython",
    "version": 3
   },
   "file_extension": ".py",
   "mimetype": "text/x-python",
   "name": "python",
   "nbconvert_exporter": "python",
   "pygments_lexer": "ipython3",
   "version": "3.8.8"
  }
 },
 "nbformat": 4,
 "nbformat_minor": 5
}
