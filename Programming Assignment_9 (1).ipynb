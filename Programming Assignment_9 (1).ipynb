{
 "cells": [
  {
   "cell_type": "markdown",
   "id": "47b9bb99",
   "metadata": {},
   "source": [
    "## Programming Assignment_9\n",
    "----------------"
   ]
  },
  {
   "cell_type": "markdown",
   "id": "c725f7a9",
   "metadata": {},
   "source": [
    "### 1. Write a Python program to check if the given number is a Disarium Number?"
   ]
  },
  {
   "cell_type": "code",
   "execution_count": 1,
   "id": "261f0fc2",
   "metadata": {},
   "outputs": [
    {
     "name": "stdout",
     "output_type": "stream",
     "text": [
      "Enter a number to check if it's a Disarium Number: 589\n",
      "589 is not a Disarium Number.\n"
     ]
    }
   ],
   "source": [
    "def is_disarium_number(number):\n",
    "    # Convert the number to a string to extract digits\n",
    "    num_str = str(number)\n",
    "    \n",
    "    # Calculate the sum of each digit raised to its position\n",
    "    sum_digits = sum(int(digit) ** (index + 1) for index, digit in enumerate(num_str))\n",
    "    \n",
    "    # Check if the sum is equal to the original number\n",
    "    return sum_digits == number\n",
    "\n",
    "# Example usage\n",
    "num = int(input(\"Enter a number to check if it's a Disarium Number: \"))\n",
    "\n",
    "if is_disarium_number(num):\n",
    "    print(f\"{num} is a Disarium Number.\")\n",
    "else:\n",
    "    print(f\"{num} is not a Disarium Number.\")\n"
   ]
  },
  {
   "cell_type": "markdown",
   "id": "f0064401",
   "metadata": {},
   "source": [
    "### 2. Write a Python program to print all disarium numbers between 1 to 100?"
   ]
  },
  {
   "cell_type": "code",
   "execution_count": 2,
   "id": "d879dd1c",
   "metadata": {},
   "outputs": [
    {
     "name": "stdout",
     "output_type": "stream",
     "text": [
      "Disarium numbers between 1 and 100:\n",
      "[1, 2, 3, 4, 5, 6, 7, 8, 9, 89]\n"
     ]
    }
   ],
   "source": [
    "def is_disarium_number(number):\n",
    "    num_str = str(number)\n",
    "    sum_digits = sum(int(digit) ** (index + 1) for index, digit in enumerate(num_str))\n",
    "    return sum_digits == number\n",
    "\n",
    "def find_disarium_numbers(start, end):\n",
    "    disarium_numbers = [num for num in range(start, end + 1) if is_disarium_number(num)]\n",
    "    return disarium_numbers\n",
    "\n",
    "# Set the range\n",
    "start_range = 1\n",
    "end_range = 100\n",
    "\n",
    "# Find and print Disarium numbers in the specified range\n",
    "disarium_numbers_in_range = find_disarium_numbers(start_range, end_range)\n",
    "\n",
    "print(f\"Disarium numbers between {start_range} and {end_range}:\")\n",
    "print(disarium_numbers_in_range)\n"
   ]
  },
  {
   "cell_type": "markdown",
   "id": "31df1e4a",
   "metadata": {},
   "source": [
    "### 3. Write a Python program to check if the given number is Happy Number?"
   ]
  },
  {
   "cell_type": "code",
   "execution_count": 3,
   "id": "95977516",
   "metadata": {},
   "outputs": [
    {
     "name": "stdout",
     "output_type": "stream",
     "text": [
      "Enter a number to check if it's a Happy Number: 589\n",
      "589 is not a Happy Number.\n"
     ]
    }
   ],
   "source": [
    "def is_happy_number(number):\n",
    "    seen_numbers = set()\n",
    "\n",
    "    while number != 1 and number not in seen_numbers:\n",
    "        seen_numbers.add(number)\n",
    "        number = sum(int(digit) ** 2 for digit in str(number))\n",
    "\n",
    "    return number == 1\n",
    "\n",
    "# Example usage\n",
    "num = int(input(\"Enter a number to check if it's a Happy Number: \"))\n",
    "\n",
    "if is_happy_number(num):\n",
    "    print(f\"{num} is a Happy Number.\")\n",
    "else:\n",
    "    print(f\"{num} is not a Happy Number.\")\n"
   ]
  },
  {
   "cell_type": "markdown",
   "id": "51b265e3",
   "metadata": {},
   "source": [
    "### 4. Write a Python program to print all happy numbers between 1 and 100?"
   ]
  },
  {
   "cell_type": "code",
   "execution_count": 17,
   "id": "3b0a447f",
   "metadata": {},
   "outputs": [
    {
     "name": "stdout",
     "output_type": "stream",
     "text": [
      "Happy Numbers between 1 and 100: [1, 7, 10, 13, 19, 23, 28, 31, 32, 44, 49, 68, 70, 79, 82, 86, 91, 94, 97, 100]\n"
     ]
    }
   ],
   "source": [
    "def is_happy_number(num):\n",
    "    seen = set()\n",
    "    while num != 1 and num not in seen:\n",
    "        seen.add(num)\n",
    "        num = sum(int(digit) ** 2 for digit in str(num))\n",
    "    return num == 1\n",
    "\n",
    "def print_happy_numbers(start, end):\n",
    "    happy_numbers = [num for num in range(start, end + 1) if is_happy_number(num)]\n",
    "    print(f\"Happy Numbers between {start} and {end}: {happy_numbers}\")\n",
    "\n",
    "# Set the range from 1 to 100\n",
    "start_range = 1\n",
    "end_range = 100\n",
    "\n",
    "# Print happy numbers in the specified range\n",
    "print_happy_numbers(start_range, end_range)"
   ]
  },
  {
   "cell_type": "markdown",
   "id": "6a190ee0",
   "metadata": {},
   "source": [
    "### 5. Write a Python program to determine whether the given number is a Harshad Number?"
   ]
  },
  {
   "cell_type": "code",
   "execution_count": 16,
   "id": "3d52edeb",
   "metadata": {},
   "outputs": [
    {
     "name": "stdout",
     "output_type": "stream",
     "text": [
      "Enter a number: 589\n",
      "589 is not a Harshad Number.\n"
     ]
    }
   ],
   "source": [
    "def is_harshad_number(number):\n",
    "    # Convert the number to a list of digits\n",
    "    digits = [int(digit) for digit in str(number)]\n",
    "    \n",
    "    # Calculate the sum of digits\n",
    "    digit_sum = sum(digits)\n",
    "    \n",
    "    # Check if the number is divisible by the sum of its digits\n",
    "    return number % digit_sum == 0\n",
    "\n",
    "# Get input from the user\n",
    "user_input = int(input(\"Enter a number: \"))\n",
    "\n",
    "# Check if the entered number is a Harshad Number\n",
    "if is_harshad_number(user_input):\n",
    "    print(f\"{user_input} is a Harshad Number.\")\n",
    "else:\n",
    "    print(f\"{user_input} is not a Harshad Number.\")"
   ]
  },
  {
   "cell_type": "markdown",
   "id": "7a7ea92e",
   "metadata": {},
   "source": [
    "### 6. Write a Python program to print all pronic numbers between 1 and 100?"
   ]
  },
  {
   "cell_type": "code",
   "execution_count": 18,
   "id": "51d4292c",
   "metadata": {},
   "outputs": [
    {
     "name": "stdout",
     "output_type": "stream",
     "text": [
      "Pronic Numbers between 1 and 100: [2, 6, 12, 20, 30, 42, 56, 72, 90]\n"
     ]
    }
   ],
   "source": [
    "def is_pronic_number(num):\n",
    "    for i in range(int(num**0.5) + 1):\n",
    "        if i * (i + 1) == num:\n",
    "            return True\n",
    "    return False\n",
    "\n",
    "def print_pronic_numbers(start, end):\n",
    "    pronic_numbers = [num for num in range(start, end + 1) if is_pronic_number(num)]\n",
    "    print(f\"Pronic Numbers between {start} and {end}: {pronic_numbers}\")\n",
    "\n",
    "# Set the range from 1 to 100\n",
    "start_range = 1\n",
    "end_range = 100\n",
    "\n",
    "# Print pronic numbers in the specified range\n",
    "print_pronic_numbers(start_range, end_range)\n"
   ]
  },
  {
   "cell_type": "code",
   "execution_count": null,
   "id": "8feb116e",
   "metadata": {},
   "outputs": [],
   "source": []
  }
 ],
 "metadata": {
  "kernelspec": {
   "display_name": "Python 3",
   "language": "python",
   "name": "python3"
  },
  "language_info": {
   "codemirror_mode": {
    "name": "ipython",
    "version": 3
   },
   "file_extension": ".py",
   "mimetype": "text/x-python",
   "name": "python",
   "nbconvert_exporter": "python",
   "pygments_lexer": "ipython3",
   "version": "3.8.8"
  }
 },
 "nbformat": 4,
 "nbformat_minor": 5
}
