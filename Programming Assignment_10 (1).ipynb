{
 "cells": [
  {
   "cell_type": "markdown",
   "id": "3dcb940f",
   "metadata": {},
   "source": [
    "## Python Basic Programming Assignment 10"
   ]
  },
  {
   "cell_type": "markdown",
   "id": "6720790a",
   "metadata": {},
   "source": [
    "### 1. Write a Python program to find sum of elements in list?"
   ]
  },
  {
   "cell_type": "code",
   "execution_count": 9,
   "id": "4fe72e1e",
   "metadata": {},
   "outputs": [
    {
     "name": "stdout",
     "output_type": "stream",
     "text": [
      "Enter the number of elments in the list: 3\n",
      "Enter the 0 number of the list: 2\n",
      "Enter the 1 number of the list: 3\n",
      "Enter the 2 number of the list: 4\n",
      "The sum of the list [2, 3, 4] is 9\n"
     ]
    }
   ],
   "source": [
    "n=int(input(\"Enter the number of elments in the list: \"))\n",
    "l=[]\n",
    "a=0\n",
    "for i in range(n):\n",
    "    e=int(input(f\"Enter the {i} number of the list: \"))\n",
    "    l.append(e)\n",
    "\n",
    "for i in range(n):\n",
    "    a+=l[i]\n",
    "    \n",
    "print(f\"The sum of the list {l} is {a}\")"
   ]
  },
  {
   "cell_type": "markdown",
   "id": "fe1137c3",
   "metadata": {},
   "source": [
    "### 2. Write a Python program to  Multiply all numbers in the list?"
   ]
  },
  {
   "cell_type": "code",
   "execution_count": 11,
   "id": "144b2dac",
   "metadata": {},
   "outputs": [
    {
     "name": "stdout",
     "output_type": "stream",
     "text": [
      "Enter the number of elments in the list: 3\n",
      "Enter the 0 number of the list: 2\n",
      "Enter the 1 number of the list: 3\n",
      "Enter the 2 number of the list: 4\n",
      "The sum of the list [2, 3, 4] is 24\n"
     ]
    }
   ],
   "source": [
    "n=int(input(\"Enter the number of elments in the list: \"))\n",
    "l=[]\n",
    "a=1\n",
    "for i in range(n):\n",
    "    e=int(input(f\"Enter the {i} number of the list: \"))\n",
    "    l.append(e)\n",
    "\n",
    "for i in range(n):\n",
    "    a*=l[i]\n",
    "    \n",
    "print(f\"The sum of the list {l} is {a}\")"
   ]
  },
  {
   "cell_type": "markdown",
   "id": "078681db",
   "metadata": {},
   "source": [
    "### 3. Write a Python program to find smallest number in a list?"
   ]
  },
  {
   "cell_type": "code",
   "execution_count": 4,
   "id": "6b68e6b3",
   "metadata": {},
   "outputs": [
    {
     "name": "stdout",
     "output_type": "stream",
     "text": [
      "Enter the number of elments in the list: 3\n",
      "Enter the 0 number of the list: 69\n",
      "Enter the 1 number of the list: 25\n",
      "Enter the 2 number of the list: 32\n",
      "The smallest of the list [69, 25, 32] is 32\n"
     ]
    }
   ],
   "source": [
    "n=int(input(\"Enter the number of elments in the list: \"))\n",
    "l=[]\n",
    "a=0\n",
    "for i in range(n):\n",
    "    e=int(input(f\"Enter the {i} number of the list: \"))\n",
    "    l.append(e)\n",
    "    \n",
    "for i in range(n):\n",
    "    if l[0]>l[i]:\n",
    "        a=l[i]\n",
    "        \n",
    "print(f\"The smallest of the list {l} is {a}\")"
   ]
  },
  {
   "cell_type": "markdown",
   "id": "12b04397",
   "metadata": {},
   "source": [
    "### 4. Write a Python program to find largest number in a list?"
   ]
  },
  {
   "cell_type": "code",
   "execution_count": 11,
   "id": "18e16cc6",
   "metadata": {},
   "outputs": [
    {
     "name": "stdout",
     "output_type": "stream",
     "text": [
      "Enter the number of elments in the list: 2\n",
      "Enter the 0 number of the list: 0\n",
      "Enter the 1 number of the list: 1\n",
      "The largest of the list [0, 1] is 1\n"
     ]
    }
   ],
   "source": [
    "n=int(input(\"Enter the number of elments in the list: \"))\n",
    "l=[]\n",
    "a=0\n",
    "for i in range(n):\n",
    "    e=int(input(f\"Enter the {i} number of the list: \"))\n",
    "    l.append(e)\n",
    "    \n",
    "for i in range(n):\n",
    "    if a<l[i]:\n",
    "        a=l[i]\n",
    "        \n",
    "print(f\"The largest of the list {l} is {a}\")"
   ]
  },
  {
   "cell_type": "markdown",
   "id": "86442b51",
   "metadata": {},
   "source": [
    "### 5. Write a Python program to find second largest number in a list?"
   ]
  },
  {
   "cell_type": "code",
   "execution_count": 12,
   "id": "3aeb6d52",
   "metadata": {},
   "outputs": [
    {
     "name": "stdout",
     "output_type": "stream",
     "text": [
      "The second-largest number in the list is: 10\n"
     ]
    }
   ],
   "source": [
    "def find_second_largest(numbers):\n",
    "    if len(numbers) < 2:\n",
    "        return \"List should have at least two elements\"\n",
    "\n",
    "    largest = second_largest = float('-inf')\n",
    "\n",
    "    for num in numbers:\n",
    "        if num > largest:\n",
    "            second_largest = largest\n",
    "            largest = num\n",
    "        elif num > second_largest and num != largest:\n",
    "            second_largest = num\n",
    "\n",
    "    if second_largest == float('-inf'):\n",
    "        return \"No second-largest element found\"\n",
    "    else:\n",
    "        return second_largest\n",
    "\n",
    "input_list = [10, 5, 8, 15, 7]\n",
    "result = find_second_largest(input_list)\n",
    "\n",
    "print(f\"The second-largest number in the list is: {result}\")"
   ]
  },
  {
   "cell_type": "markdown",
   "id": "10964d7d",
   "metadata": {},
   "source": [
    "### 6. Write a Python program to find N largest elements from a list?"
   ]
  },
  {
   "cell_type": "code",
   "execution_count": 13,
   "id": "857f6fee",
   "metadata": {},
   "outputs": [
    {
     "name": "stdout",
     "output_type": "stream",
     "text": [
      "The 3 largest elements in the list are: [20, 18, 15]\n"
     ]
    }
   ],
   "source": [
    "def find_n_largest(numbers, n):\n",
    "    if len(numbers) < n:\n",
    "        return f\"List should have at least {n} elements\"\n",
    "\n",
    "    sorted_numbers = sorted(numbers, reverse=True)\n",
    "    n_largest_elements = sorted_numbers[:n]\n",
    "\n",
    "    return n_largest_elements\n",
    "\n",
    "# Example usage:\n",
    "input_list = [10, 5, 8, 15, 7, 20, 18]\n",
    "n = 3\n",
    "result = find_n_largest(input_list, n)\n",
    "\n",
    "print(f\"The {n} largest elements in the list are: {result}\")"
   ]
  },
  {
   "cell_type": "markdown",
   "id": "2f1a1e98",
   "metadata": {},
   "source": [
    "### 7. Write a Python program to print even numbers in a list?"
   ]
  },
  {
   "cell_type": "code",
   "execution_count": 14,
   "id": "c2cf1988",
   "metadata": {},
   "outputs": [
    {
     "name": "stdout",
     "output_type": "stream",
     "text": [
      "Enter the number of elments in the list: 3\n",
      "Enter the 0 number of the list: 8\n",
      "Enter the 1 number of the list: 9\n",
      "Enter the 2 number of the list: 4\n",
      "8 is a Even number\n",
      "4 is a Even number\n"
     ]
    }
   ],
   "source": [
    "n=int(input(\"Enter the number of elments in the list: \"))\n",
    "l=[]\n",
    "\n",
    "for i in range(n):\n",
    "    e=int(input(f\"Enter the {i} number of the list: \"))\n",
    "    l.append(e)\n",
    "\n",
    "for i in l:\n",
    "    if (i%2==0):\n",
    "        print (f\"{i} is a Even number\")"
   ]
  },
  {
   "cell_type": "markdown",
   "id": "989bb324",
   "metadata": {},
   "source": [
    "### 8. Write a Python program to print odd numbers in a List?"
   ]
  },
  {
   "cell_type": "code",
   "execution_count": 16,
   "id": "ff85114a",
   "metadata": {},
   "outputs": [
    {
     "name": "stdout",
     "output_type": "stream",
     "text": [
      "Enter the number of elments in the list: 4\n",
      "Enter the 0 number of the list: 1\n",
      "Enter the 1 number of the list: 2\n",
      "Enter the 2 number of the list: 3\n",
      "Enter the 3 number of the list: 4\n",
      "1 is a ODD number\n",
      "3 is a ODD number\n"
     ]
    }
   ],
   "source": [
    "n=int(input(\"Enter the number of elments in the list: \"))\n",
    "l=[]\n",
    "\n",
    "for i in range(n):\n",
    "    e=int(input(f\"Enter the {i} number of the list: \"))\n",
    "    l.append(e)\n",
    "\n",
    "for i in l:\n",
    "    if (i%2!=0):\n",
    "        print (f\"{i} is a ODD number\")"
   ]
  },
  {
   "cell_type": "markdown",
   "id": "185b7b13",
   "metadata": {},
   "source": [
    "### 9. Write a Python program to Remove empty List from List?"
   ]
  },
  {
   "cell_type": "code",
   "execution_count": 21,
   "id": "796b92a6",
   "metadata": {},
   "outputs": [
    {
     "name": "stdout",
     "output_type": "stream",
     "text": [
      "The list without empty elements is [1, [2, 3], [4, 5]]\n"
     ]
    }
   ],
   "source": [
    "nl = [1, [], [2, 3], [], [], [4, 5], []]\n",
    "a=[]\n",
    "for i in nl:\n",
    "    if (i!=[]):\n",
    "        a.append(i)\n",
    "print(f\"The list without empty elements is {a}\")"
   ]
  },
  {
   "cell_type": "markdown",
   "id": "278cfacc",
   "metadata": {},
   "source": [
    "### 10. Write a Python program to Cloning or Copying a list?"
   ]
  },
  {
   "cell_type": "code",
   "execution_count": 26,
   "id": "7558acb5",
   "metadata": {},
   "outputs": [
    {
     "name": "stdout",
     "output_type": "stream",
     "text": [
      "Enter the number of elments in the list: 6\n",
      "Enter the 0 number of the list: 1\n",
      "Enter the 1 number of the list: 2\n",
      "Enter the 2 number of the list: 3\n",
      "Enter the 3 number of the list: 4\n",
      "Enter the 4 number of the list: 5\n",
      "Enter the 5 number of the list: 6\n",
      "The list that was given was [1, 2, 3, 4, 5, 6] copied list was [1, 2, 3, 4, 5, 6]\n"
     ]
    }
   ],
   "source": [
    "n=int(input(\"Enter the number of elments in the list: \"))\n",
    "l=[]\n",
    "m=[]\n",
    "for i in range(n):\n",
    "    e=int(input(f\"Enter the {i} number of the list: \"))\n",
    "    l.append(e)\n",
    "    \n",
    "for i in range(n):\n",
    "    m.append(l[i])\n",
    "\n",
    "    \n",
    "print(f\"The list that was given was {l} copied list was {m}\")"
   ]
  },
  {
   "cell_type": "markdown",
   "id": "b359bedf",
   "metadata": {},
   "source": [
    "### 11. Write a Python program to Count occurrences of an element in a list?"
   ]
  },
  {
   "cell_type": "code",
   "execution_count": 28,
   "id": "82ee87d9",
   "metadata": {},
   "outputs": [
    {
     "name": "stdout",
     "output_type": "stream",
     "text": [
      "Enter the elments to count in the list: 8\n",
      "8 has occurred 5 times\n"
     ]
    }
   ],
   "source": [
    "def countX(lst, x):\n",
    "    count = 0\n",
    "    for ele in lst:\n",
    "        if (ele == x):\n",
    "            count = count + 1\n",
    "    return count\n",
    " \n",
    " \n",
    "lst = [8, 6, 8, 10, 8, 20, 10, 8, 8]\n",
    "x = int(input(\"Enter the elments to count in the list: \"))\n",
    "print('{} has occurred {} times'.format(x,countX(lst, x)))"
   ]
  },
  {
   "cell_type": "code",
   "execution_count": null,
   "id": "7591c076",
   "metadata": {},
   "outputs": [],
   "source": []
  }
 ],
 "metadata": {
  "kernelspec": {
   "display_name": "Python 3",
   "language": "python",
   "name": "python3"
  },
  "language_info": {
   "codemirror_mode": {
    "name": "ipython",
    "version": 3
   },
   "file_extension": ".py",
   "mimetype": "text/x-python",
   "name": "python",
   "nbconvert_exporter": "python",
   "pygments_lexer": "ipython3",
   "version": "3.8.8"
  }
 },
 "nbformat": 4,
 "nbformat_minor": 5
}
