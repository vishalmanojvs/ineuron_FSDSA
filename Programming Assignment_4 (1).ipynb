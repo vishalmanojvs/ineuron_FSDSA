{
 "cells": [
  {
   "cell_type": "markdown",
   "id": "20cb4340",
   "metadata": {
    "id": "20cb4340"
   },
   "source": [
    "## Programming Assignment_4\n",
    "----------------"
   ]
  },
  {
   "cell_type": "markdown",
   "id": "4fdb6695",
   "metadata": {
    "id": "4fdb6695"
   },
   "source": [
    "### 1. Write a Python Program to Find the Factorial of a Number?"
   ]
  },
  {
   "cell_type": "code",
   "execution_count": 1,
   "id": "hOeAnUwS8YPP",
   "metadata": {
    "id": "hOeAnUwS8YPP"
   },
   "outputs": [
    {
     "name": "stdout",
     "output_type": "stream",
     "text": [
      "Enter a number: 5\n",
      "The factorial of 5 is: 120\n"
     ]
    }
   ],
   "source": [
    "def factorial(n):\n",
    "    if n == 0 or n == 1:\n",
    "        return 1\n",
    "    else:\n",
    "        return n * factorial(n-1)\n",
    "\n",
    "# Taking input from the user\n",
    "num = int(input(\"Enter a number: \"))\n",
    "\n",
    "# Checking if the input is non-negative\n",
    "if num < 0:\n",
    "    print(\"Factorial is not defined for negative numbers.\")\n",
    "else:\n",
    "    result = factorial(num)\n",
    "    \n",
    "    print(f\"The factorial of {num} is: {result}\")"
   ]
  },
  {
   "cell_type": "markdown",
   "id": "e6beef62",
   "metadata": {
    "id": "e6beef62"
   },
   "source": [
    "### 2. Write a Python Program to Display the multiplication Table?"
   ]
  },
  {
   "cell_type": "code",
   "execution_count": 14,
   "id": "KRlnRPqETMOx",
   "metadata": {
    "id": "KRlnRPqETMOx"
   },
   "outputs": [
    {
     "name": "stdout",
     "output_type": "stream",
     "text": [
      "Enter the number of the table that has to be displayed9\n",
      "-+--+--+--+--+--+--+--+--+--+--+--+--+--+--+--+--+--+--+--+--+--+--+--+--+--+--+--+--+--+--+--+--+--+--+--+--+--+--+--+-\n",
      "The Multiplication table of 9 \n",
      "9 * 1 = 9\n",
      "9 * 2 = 18\n",
      "9 * 3 = 27\n",
      "9 * 4 = 36\n",
      "9 * 5 = 45\n",
      "9 * 6 = 54\n",
      "9 * 7 = 63\n",
      "9 * 8 = 72\n",
      "9 * 9 = 81\n",
      "9 * 10 = 90\n",
      "-+--+--+--+--+--+--+--+--+--+--+--+--+--+--+--+--+--+--+--+--+--+--+--+--+--+--+--+--+--+--+--+--+--+--+--+--+--+--+--+-\n"
     ]
    }
   ],
   "source": [
    "a=int(input(\"Enter the number of the table that has to be displayed\"))\n",
    "print(\"-+-\"*40)\n",
    "print(\"The Multiplication table of {} \".format(a))\n",
    "for i in range (1,11):\n",
    "    print(a, \"*\", i, \"=\", (a*i))\n",
    "print(\"-+-\"*40)"
   ]
  },
  {
   "cell_type": "markdown",
   "id": "-DGZq5N22z65",
   "metadata": {
    "id": "-DGZq5N22z65"
   },
   "source": []
  },
  {
   "cell_type": "markdown",
   "id": "7de7eba5",
   "metadata": {
    "id": "7de7eba5"
   },
   "source": [
    "### 3. Write a Python Program to Print the Fibonacci sequence?\n"
   ]
  },
  {
   "cell_type": "code",
   "execution_count": 3,
   "id": "ef9f2119",
   "metadata": {},
   "outputs": [
    {
     "name": "stdout",
     "output_type": "stream",
     "text": [
      "-+--+--+--+--+--+--+--+--+--+--+--+--+--+--+--+--+--+--+--+--+--+--+--+--+--+--+--+--+--+--+--+--+--+--+--+--+--+--+--+-\n",
      "Enter the number of terms in the Fibonacci sequence: 9\n",
      "-+--+--+--+--+--+--+--+--+--+--+--+--+--+--+--+--+--+--+--+--+--+--+--+--+--+--+--+--+--+--+--+--+--+--+--+--+--+--+--+-\n",
      "Fibonacci sequence with 9 terms: [0, 1, 1, 2, 3, 5, 8, 13, 21]\n",
      "-+--+--+--+--+--+--+--+--+--+--+--+--+--+--+--+--+--+--+--+--+--+--+--+--+--+--+--+--+--+--+--+--+--+--+--+--+--+--+--+-\n"
     ]
    }
   ],
   "source": [
    "def fibonacci(n):\n",
    "    fib_sequence = [0, 1]\n",
    "\n",
    "    for i in range(2, n):\n",
    "        next_number = fib_sequence[-1] + fib_sequence[-2]\n",
    "        fib_sequence.append(next_number)\n",
    "\n",
    "    return fib_sequence\n",
    "print(\"-+-\"*40)\n",
    "# Get user input for the number of terms in the Fibonacci sequence\n",
    "num_terms = int(input(\"Enter the number of terms in the Fibonacci sequence: \"))\n",
    "print(\"-+-\"*40)\n",
    "# Print the Fibonacci sequence\n",
    "result = fibonacci(num_terms)\n",
    "print(f\"Fibonacci sequence with {num_terms} terms: {result}\")\n",
    "print(\"-+-\"*40)"
   ]
  },
  {
   "cell_type": "markdown",
   "id": "0446442e",
   "metadata": {
    "id": "0446442e"
   },
   "source": [
    "### 4. Write a Python Program to Check Armstrong Number?"
   ]
  },
  {
   "cell_type": "code",
   "execution_count": 4,
   "id": "0896e770",
   "metadata": {},
   "outputs": [
    {
     "name": "stdout",
     "output_type": "stream",
     "text": [
      "Enter a number to check if it's an Armstrong number: 585\n",
      "-+--+--+--+--+--+--+--+--+--+--+--+--+--+--+--+--+--+--+--+--+--+--+--+--+--+--+--+--+--+--+--+--+--+--+--+--+--+--+--+-\n",
      "585 is not an Armstrong number.\n",
      "-+--+--+--+--+--+--+--+--+--+--+--+--+--+--+--+--+--+--+--+--+--+--+--+--+--+--+--+--+--+--+--+--+--+--+--+--+--+--+--+-\n"
     ]
    }
   ],
   "source": [
    "def is_armstrong_number(num):\n",
    "    # Convert the number to a string to find the number of digits\n",
    "    num_str = str(num)\n",
    "    num_digits = len(num_str)\n",
    "\n",
    "    # Calculate the sum of each digit raised to the power of the number of digits\n",
    "    armstrong_sum = sum(int(digit) ** num_digits for digit in num_str)\n",
    "\n",
    "    # Check if the sum is equal to the original number\n",
    "    return armstrong_sum == num\n",
    "\n",
    "# Get user input for the number to check\n",
    "number_to_check = int(input(\"Enter a number to check if it's an Armstrong number: \"))\n",
    "print(\"-+-\"*40)\n",
    "# Check and display the result\n",
    "if is_armstrong_number(number_to_check):\n",
    "    print(f\"{number_to_check} is an Armstrong number.\")\n",
    "else:\n",
    "    print(f\"{number_to_check} is not an Armstrong number.\")\n",
    "print(\"-+-\"*40)"
   ]
  },
  {
   "cell_type": "markdown",
   "id": "a6f9adfe",
   "metadata": {
    "id": "a6f9adfe"
   },
   "source": [
    "### 5. Write a Python Program to Find Armstrong Number in an Interval?"
   ]
  },
  {
   "cell_type": "code",
   "execution_count": 6,
   "id": "ec231cdf",
   "metadata": {},
   "outputs": [
    {
     "name": "stdout",
     "output_type": "stream",
     "text": [
      "-+--+--+--+--+--+--+--+--+--+--+--+--+--+--+--+--+--+--+--+--+--+--+--+--+--+--+--+--+--+--+--+--+--+--+--+--+--+--+--+-\n",
      "Enter the starting number of the interval: 859\n",
      "Enter the ending number of the interval: 9000\n",
      "-+--+--+--+--+--+--+--+--+--+--+--+--+--+--+--+--+--+--+--+--+--+--+--+--+--+--+--+--+--+--+--+--+--+--+--+--+--+--+--+-\n",
      "Armstrong numbers in the interval [859, 9000]: [1634, 8208]\n"
     ]
    }
   ],
   "source": [
    "def is_armstrong_number(num):\n",
    "    # Convert the number to a string to find the number of digits\n",
    "    num_str = str(num)\n",
    "    num_digits = len(num_str)\n",
    "\n",
    "    # Calculate the sum of each digit raised to the power of the number of digits\n",
    "    armstrong_sum = sum(int(digit) ** num_digits for digit in num_str)\n",
    "\n",
    "    # Check if the sum is equal to the original number\n",
    "    return armstrong_sum == num\n",
    "\n",
    "def find_armstrong_numbers_in_interval(start, end):\n",
    "    armstrong_numbers = []\n",
    "\n",
    "    for num in range(start, end + 1):\n",
    "        if is_armstrong_number(num):\n",
    "            armstrong_numbers.append(num)\n",
    "\n",
    "    return armstrong_numbers\n",
    "print(\"-+-\"*40)\n",
    "# Get user input for the interval\n",
    "start_num = int(input(\"Enter the starting number of the interval: \"))\n",
    "end_num = int(input(\"Enter the ending number of the interval: \"))\n",
    "print(\"-+-\"*40)\n",
    "# Find and display Armstrong numbers in the given interval\n",
    "armstrong_numbers_in_interval = find_armstrong_numbers_in_interval(start_num, end_num)\n",
    "print(f\"Armstrong numbers in the interval [{start_num}, {end_num}]: {armstrong_numbers_in_interval}\")\n"
   ]
  },
  {
   "cell_type": "markdown",
   "id": "qbmbp0_822o1",
   "metadata": {
    "id": "qbmbp0_822o1"
   },
   "source": []
  },
  {
   "cell_type": "markdown",
   "id": "157cad60",
   "metadata": {
    "id": "157cad60"
   },
   "source": [
    "### 6. Write a Python Program to Find the Sum of Natural Numbers?"
   ]
  },
  {
   "cell_type": "code",
   "execution_count": 7,
   "id": "2e997bda",
   "metadata": {},
   "outputs": [
    {
     "name": "stdout",
     "output_type": "stream",
     "text": [
      "-+--+--+--+--+--+--+--+--+--+--+--+--+--+--+--+--+--+--+--+--+--+--+--+--+--+--+--+--+--+--+--+--+--+--+--+--+--+--+--+-\n",
      "Enter the upper limit to find the sum of natural numbers up to that limit: 58\n",
      "-+--+--+--+--+--+--+--+--+--+--+--+--+--+--+--+--+--+--+--+--+--+--+--+--+--+--+--+--+--+--+--+--+--+--+--+--+--+--+--+-\n",
      "The sum of natural numbers up to 58 is: 1711\n",
      "-+--+--+--+--+--+--+--+--+--+--+--+--+--+--+--+--+--+--+--+--+--+--+--+--+--+--+--+--+--+--+--+--+--+--+--+--+--+--+--+-\n"
     ]
    }
   ],
   "source": [
    "def sum_of_natural_numbers(n):\n",
    "    # Ensure that the input is a positive integer\n",
    "    if n < 0:\n",
    "        return \"Please enter a positive integer.\"\n",
    "    \n",
    "    # Use the formula for the sum of the first n natural numbers: sum = n * (n + 1) / 2\n",
    "    sum_value = n * (n + 1) // 2\n",
    "\n",
    "    return sum_value\n",
    "print(\"-+-\"*40)\n",
    "# Get user input for the upper limit\n",
    "upper_limit = int(input(\"Enter the upper limit to find the sum of natural numbers up to that limit: \"))\n",
    "print(\"-+-\"*40)\n",
    "# Calculate and display the sum of natural numbers\n",
    "result = sum_of_natural_numbers(upper_limit)\n",
    "print(f\"The sum of natural numbers up to {upper_limit} is: {result}\")\n",
    "print(\"-+-\"*40)"
   ]
  },
  {
   "cell_type": "code",
   "execution_count": null,
   "id": "29a059c0",
   "metadata": {},
   "outputs": [],
   "source": []
  }
 ],
 "metadata": {
  "colab": {
   "provenance": []
  },
  "kernelspec": {
   "display_name": "Python 3",
   "language": "python",
   "name": "python3"
  },
  "language_info": {
   "codemirror_mode": {
    "name": "ipython",
    "version": 3
   },
   "file_extension": ".py",
   "mimetype": "text/x-python",
   "name": "python",
   "nbconvert_exporter": "python",
   "pygments_lexer": "ipython3",
   "version": "3.8.8"
  }
 },
 "nbformat": 4,
 "nbformat_minor": 5
}
