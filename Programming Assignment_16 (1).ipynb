{
 "cells": [
  {
   "cell_type": "markdown",
   "id": "e304dc88",
   "metadata": {},
   "source": [
    "## Python Basic Programming Assignment 16\n",
    "---------------------"
   ]
  },
  {
   "cell_type": "markdown",
   "id": "d82eeee0",
   "metadata": {},
   "source": [
    "### 1. Write a function that stutters a word as if someone is struggling to read it. The first two letters are repeated twice with an ellipsis ... and space after each, and then the word is pronounced with a question mark ?. Examples stutter('incredible') ➞ 'in... in... incredible?' stutter('enthusiastic') ➞ 'en... en... enthusiastic?' stutter('outstanding') ➞ 'ou... ou... outstanding?'\n",
    "\n",
    "### Hint :- Assume all input is in lower case and at least two characters long."
   ]
  },
  {
   "cell_type": "code",
   "execution_count": 1,
   "id": "c86255f7",
   "metadata": {},
   "outputs": [
    {
     "name": "stdout",
     "output_type": "stream",
     "text": [
      "in... in... incredible?\n",
      "en... en... enthusiastic?\n",
      "ou... ou... outstanding?\n"
     ]
    }
   ],
   "source": [
    "def stutter(word):\n",
    "    first_two_letters = word[:2]\n",
    "    return f\"{first_two_letters}... {first_two_letters}... {word}?\"\n",
    "\n",
    "# Test the function with examples\n",
    "print(stutter('incredible'))     # ➞ 'in... in... incredible?'\n",
    "print(stutter('enthusiastic'))   # ➞ 'en... en... enthusiastic?'\n",
    "print(stutter('outstanding'))     # ➞ 'ou... ou... outstanding?'"
   ]
  },
  {
   "cell_type": "markdown",
   "id": "47e1bd41",
   "metadata": {},
   "source": [
    "\n",
    "### 2. Create a function that takes an angle in radians and returns the corresponding angle in degrees rounded to one decimal place."
   ]
  },
  {
   "cell_type": "code",
   "execution_count": 2,
   "id": "6b66fccd",
   "metadata": {},
   "outputs": [
    {
     "name": "stdout",
     "output_type": "stream",
     "text": [
      "180.0\n",
      "90.0\n",
      "360.0\n"
     ]
    }
   ],
   "source": [
    "import math\n",
    "\n",
    "def radians_to_degrees(radians):\n",
    "    # Convert radians to degrees\n",
    "    degrees = math.degrees(radians)\n",
    "    # Round the result to one decimal place\n",
    "    rounded_degrees = round(degrees, 1)\n",
    "    return rounded_degrees\n",
    "\n",
    "# Test the function\n",
    "print(radians_to_degrees(math.pi))  # Output: 180.0\n",
    "print(radians_to_degrees(math.pi / 2))  # Output: 90.0\n",
    "print(radians_to_degrees(2 * math.pi))  # Output: 360.0"
   ]
  },
  {
   "cell_type": "markdown",
   "id": "07cad4d9",
   "metadata": {},
   "source": [
    "\n",
    "### 3. In this challenge, establish if a given integer num is a Curzon number. If 1 plus 2 elevated to num is exactly divisible by 1 plus 2 multiplied by num, then num is a Curzon number. Given a non-negative integer num, implement a function that returns True if num is a Curzon number, or False otherwise."
   ]
  },
  {
   "cell_type": "code",
   "execution_count": 3,
   "id": "53e3bb9b",
   "metadata": {},
   "outputs": [
    {
     "name": "stdout",
     "output_type": "stream",
     "text": [
      "True\n",
      "False\n"
     ]
    }
   ],
   "source": [
    "def is_curzon_number(num):\n",
    "    numerator = 2**num + 1\n",
    "    denominator = 2*num + 1\n",
    "    return numerator % denominator == 0\n",
    "\n",
    "# Test the function\n",
    "print(is_curzon_number(5))  # Output: True (2^5 + 1 = 33, 2*5 + 1 = 11, 33 is divisible by 11)\n",
    "print(is_curzon_number(10)) # Output: False (2^10 + 1 = 1025, 2*10 + 1 = 21, 1025 is not divisible by 21)"
   ]
  },
  {
   "cell_type": "markdown",
   "id": "cfad2cfc",
   "metadata": {},
   "source": [
    "\n",
    "### 4. Given the side length x find the area of a hexagon."
   ]
  },
  {
   "cell_type": "code",
   "execution_count": 4,
   "id": "fd6138f5",
   "metadata": {},
   "outputs": [
    {
     "name": "stdout",
     "output_type": "stream",
     "text": [
      "Enter the side length of the hexagon: 8\n",
      "Area of the hexagon: 166.27687752661222\n"
     ]
    }
   ],
   "source": [
    "import math\n",
    "\n",
    "def area_of_hexagon(side_length):\n",
    "    area = (3 * math.sqrt(3) * side_length ** 2) / 2\n",
    "    return area\n",
    "\n",
    "# Test the function\n",
    "side_length = float(input(\"Enter the side length of the hexagon: \"))\n",
    "print(\"Area of the hexagon:\", area_of_hexagon(side_length))"
   ]
  },
  {
   "cell_type": "markdown",
   "id": "dbc79e02",
   "metadata": {},
   "source": [
    "\n",
    "### 5. Create a function that returns a base-2 (binary) representation of a base-10 (decimal) string number. To convert is simple: ((2) means base-2 and (10) means base-10) 010101001(2) = 1 + 8 + 32 + 128."
   ]
  },
  {
   "cell_type": "code",
   "execution_count": 5,
   "id": "99521fd9",
   "metadata": {},
   "outputs": [
    {
     "name": "stdout",
     "output_type": "stream",
     "text": [
      "Enter a decimal number: 56\n",
      "Binary representation: 111000\n"
     ]
    }
   ],
   "source": [
    "def decimal_to_binary(decimal_number):\n",
    "    # Remove the '0b' prefix and return the binary representation\n",
    "    return bin(decimal_number)[2:]\n",
    "\n",
    "# Test the function\n",
    "decimal_number = int(input(\"Enter a decimal number: \"))\n",
    "binary_representation = decimal_to_binary(decimal_number)\n",
    "print(\"Binary representation:\", binary_representation)"
   ]
  },
  {
   "cell_type": "code",
   "execution_count": null,
   "id": "9c819f8d",
   "metadata": {},
   "outputs": [],
   "source": []
  }
 ],
 "metadata": {
  "kernelspec": {
   "display_name": "Python 3",
   "language": "python",
   "name": "python3"
  },
  "language_info": {
   "codemirror_mode": {
    "name": "ipython",
    "version": 3
   },
   "file_extension": ".py",
   "mimetype": "text/x-python",
   "name": "python",
   "nbconvert_exporter": "python",
   "pygments_lexer": "ipython3",
   "version": "3.8.8"
  }
 },
 "nbformat": 4,
 "nbformat_minor": 5
}
