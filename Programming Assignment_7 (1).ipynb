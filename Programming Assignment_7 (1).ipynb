{
 "cells": [
  {
   "cell_type": "markdown",
   "id": "35297a20",
   "metadata": {},
   "source": [
    "## Programming Basic Assignment 7"
   ]
  },
  {
   "cell_type": "markdown",
   "id": "27349114",
   "metadata": {},
   "source": [
    "### 1. Write a Python Program to find sum of array?"
   ]
  },
  {
   "cell_type": "code",
   "execution_count": 1,
   "id": "5f9a7171",
   "metadata": {},
   "outputs": [
    {
     "name": "stdout",
     "output_type": "stream",
     "text": [
      "The sum of the array [1, 2, 3, 4, 5] is: 15\n"
     ]
    }
   ],
   "source": [
    "def find_array_sum(arr):\n",
    "    array_sum = 0\n",
    "    \n",
    "    for element in arr:\n",
    "        array_sum += element\n",
    "    \n",
    "    return array_sum\n",
    "\n",
    "my_array = [1, 2, 3, 4, 5]\n",
    "result = find_array_sum(my_array)\n",
    "\n",
    "print(f\"The sum of the array {my_array} is: {result}\")"
   ]
  },
  {
   "cell_type": "markdown",
   "id": "171a980d",
   "metadata": {},
   "source": [
    "### 2. Write a Python Program to find largest element in an array?\n"
   ]
  },
  {
   "cell_type": "code",
   "execution_count": 2,
   "id": "a2c2e1db",
   "metadata": {},
   "outputs": [
    {
     "name": "stdout",
     "output_type": "stream",
     "text": [
      "The largest element in the array [5, 2, 8, 12, 3] is: 12\n"
     ]
    }
   ],
   "source": [
    "def find_largest_element(arr):\n",
    "    if not arr:\n",
    "        return None  \n",
    "    largest_element = arr[0]\n",
    "    \n",
    "\n",
    "    for element in arr:\n",
    "        if element > largest_element:\n",
    "            largest_element = element\n",
    "    \n",
    "\n",
    "    return largest_element\n",
    "\n",
    "\n",
    "my_array = [5, 2, 8, 12, 3]\n",
    "result = find_largest_element(my_array)\n",
    "\n",
    "print(f\"The largest element in the array {my_array} is: {result}\")\n"
   ]
  },
  {
   "cell_type": "markdown",
   "id": "21613246",
   "metadata": {},
   "source": [
    "### 3. Write a Python Program for array rotation?"
   ]
  },
  {
   "cell_type": "code",
   "execution_count": 3,
   "id": "d6a3d424",
   "metadata": {},
   "outputs": [
    {
     "name": "stdout",
     "output_type": "stream",
     "text": [
      "The array [1, 2, 3, 4, 5] after rotating left by 2 positions is: [3, 4, 5, 1, 2]\n"
     ]
    }
   ],
   "source": [
    "def rotate_array_left(arr, positions):\n",
    "    effective_positions = positions % len(arr)\n",
    "    \n",
    "    rotated_array = arr[effective_positions:] + arr[:effective_positions]\n",
    "    \n",
    "    return rotated_array\n",
    "\n",
    "my_array = [1, 2, 3, 4, 5]\n",
    "rotation_positions = 2\n",
    "result = rotate_array_left(my_array, rotation_positions)\n",
    "\n",
    "print(f\"The array {my_array} after rotating left by {rotation_positions} positions is: {result}\")"
   ]
  },
  {
   "cell_type": "markdown",
   "id": "3e52d939",
   "metadata": {},
   "source": [
    "### 4. Write a Python Program to Split the array and add the first part to the end?"
   ]
  },
  {
   "cell_type": "code",
   "execution_count": 4,
   "id": "4dab91bf",
   "metadata": {},
   "outputs": [
    {
     "name": "stdout",
     "output_type": "stream",
     "text": [
      "The array [1, 2, 3, 4, 5] after splitting at index 2 and adding the first part to the end is: [4, 5, 1, 2, 3]\n"
     ]
    }
   ],
   "source": [
    "def split_and_add_to_end(arr, split_index):\n",
    "    if split_index < 0 or split_index >= len(arr):\n",
    "        print(\"Invalid split index.\")\n",
    "        return arr\n",
    "\n",
    "    split_part = arr[:split_index + 1]\n",
    "    remaining_part = arr[split_index + 1:]\n",
    "    rotated_array = remaining_part + split_part\n",
    "\n",
    "    return rotated_array\n",
    "\n",
    "my_array = [1, 2, 3, 4, 5]\n",
    "split_index = 2\n",
    "result = split_and_add_to_end(my_array, split_index)\n",
    "\n",
    "print(f\"The array {my_array} after splitting at index {split_index} and adding the first part to the end is: {result}\")\n"
   ]
  },
  {
   "cell_type": "markdown",
   "id": "aa375779",
   "metadata": {},
   "source": [
    "### 5. Write a Python Program to check if given array is Monotonic?"
   ]
  },
  {
   "cell_type": "code",
   "execution_count": 5,
   "id": "65649a32",
   "metadata": {},
   "outputs": [
    {
     "name": "stdout",
     "output_type": "stream",
     "text": [
      "The array [1, 2, 3, 3, 4] is monotonic.\n"
     ]
    }
   ],
   "source": [
    "def is_monotonic(arr):\n",
    "    increasing = decreasing = True\n",
    "\n",
    "    for i in range(1, len(arr)):\n",
    "        if arr[i] > arr[i - 1]:\n",
    "            increasing = False\n",
    "            break\n",
    "\n",
    "    for i in range(1, len(arr)):\n",
    "        if arr[i] < arr[i - 1]:\n",
    "            decreasing = False\n",
    "            break\n",
    "\n",
    "    return increasing or decreasing\n",
    "\n",
    "\n",
    "my_array = [1, 2, 3, 3, 4]\n",
    "result = is_monotonic(my_array)\n",
    "\n",
    "if result:\n",
    "    print(f\"The array {my_array} is monotonic.\")\n",
    "else:\n",
    "    print(f\"The array {my_array} is not monotonic.\")"
   ]
  },
  {
   "cell_type": "code",
   "execution_count": null,
   "id": "3807ccc2",
   "metadata": {},
   "outputs": [],
   "source": []
  }
 ],
 "metadata": {
  "kernelspec": {
   "display_name": "Python 3",
   "language": "python",
   "name": "python3"
  },
  "language_info": {
   "codemirror_mode": {
    "name": "ipython",
    "version": 3
   },
   "file_extension": ".py",
   "mimetype": "text/x-python",
   "name": "python",
   "nbconvert_exporter": "python",
   "pygments_lexer": "ipython3",
   "version": "3.8.8"
  }
 },
 "nbformat": 4,
 "nbformat_minor": 5
}
