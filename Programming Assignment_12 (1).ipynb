{
 "cells": [
  {
   "cell_type": "markdown",
   "id": "b7231b20",
   "metadata": {},
   "source": [
    "# Python Basic Programming Assignment 12\n",
    "-------------"
   ]
  },
  {
   "cell_type": "markdown",
   "id": "d2ec324d",
   "metadata": {},
   "source": [
    "### 1. Write a Python program to Extract Unique values dictionary values?"
   ]
  },
  {
   "cell_type": "code",
   "execution_count": 1,
   "id": "dfa2d57c",
   "metadata": {},
   "outputs": [
    {
     "name": "stdout",
     "output_type": "stream",
     "text": [
      "Unique values: {1, 2, 3, 4, 5}\n"
     ]
    }
   ],
   "source": [
    "def extract_unique_values(dictionary):\n",
    "    unique_values = set()  # Create an empty set to store unique values\n",
    "\n",
    "    # Iterate through each key-value pair in the dictionary\n",
    "    for value in dictionary.values():\n",
    "        if isinstance(value, list):\n",
    "            unique_values.update(value)  # If the value is a list, update the set with its elements\n",
    "        else:\n",
    "            unique_values.add(value)  # If the value is not a list, add it directly to the set\n",
    "\n",
    "    return unique_values\n",
    "\n",
    "# Example dictionary\n",
    "my_dict = {\n",
    "    'a': [1, 2, 3],\n",
    "    'b': 2,\n",
    "    'c': [3, 4, 5],\n",
    "    'd': 4,\n",
    "    'e': 5\n",
    "}\n",
    "\n",
    "# Extract unique values\n",
    "unique_values = extract_unique_values(my_dict)\n",
    "\n",
    "# Print unique values\n",
    "print(\"Unique values:\", unique_values)"
   ]
  },
  {
   "cell_type": "markdown",
   "id": "203bcbc3",
   "metadata": {},
   "source": [
    "### 2. Write a Python program to find the sum of all items in a dictionary?"
   ]
  },
  {
   "cell_type": "code",
   "execution_count": 2,
   "id": "b3b2a638",
   "metadata": {},
   "outputs": [
    {
     "name": "stdout",
     "output_type": "stream",
     "text": [
      "Sum of all items in the dictionary: 150\n"
     ]
    }
   ],
   "source": [
    "def sum_of_dictionary_items(dictionary):\n",
    "    total_sum = 0  # Initialize total sum to zero\n",
    "\n",
    "    # Iterate through each key-value pair in the dictionary\n",
    "    for value in dictionary.values():\n",
    "        # Check if the value is a number (int or float)\n",
    "        if isinstance(value, (int, float)):\n",
    "            total_sum += value  # Add the value to the total sum\n",
    "\n",
    "    return total_sum\n",
    "\n",
    "# Example dictionary\n",
    "my_dict = {\n",
    "    'a': 10,\n",
    "    'b': 20,\n",
    "    'c': 30,\n",
    "    'd': 40,\n",
    "    'e': 50\n",
    "}\n",
    "\n",
    "# Calculate the sum of all items in the dictionary\n",
    "result = sum_of_dictionary_items(my_dict)\n",
    "\n",
    "# Print the sum\n",
    "print(\"Sum of all items in the dictionary:\", result)"
   ]
  },
  {
   "cell_type": "markdown",
   "id": "edfbc682",
   "metadata": {},
   "source": [
    "### 3. Write a Python program to Merging two Dictionaries?"
   ]
  },
  {
   "cell_type": "code",
   "execution_count": 3,
   "id": "49be99ae",
   "metadata": {},
   "outputs": [
    {
     "name": "stdout",
     "output_type": "stream",
     "text": [
      "Merged dictionary: {'a': 1, 'b': 3, 'c': 4}\n"
     ]
    }
   ],
   "source": [
    "def merge_dictionaries(dict1, dict2):\n",
    "    merged_dict = dict1.copy()  # Make a copy of the first dictionary\n",
    "    merged_dict.update(dict2)   # Update it with the second dictionary\n",
    "    return merged_dict\n",
    "\n",
    "# Example dictionaries\n",
    "dict1 = {'a': 1, 'b': 2}\n",
    "dict2 = {'b': 3, 'c': 4}\n",
    "\n",
    "# Merge dictionaries using update method\n",
    "merged_dict = merge_dictionaries(dict1, dict2)\n",
    "\n",
    "# Print the merged dictionary\n",
    "print(\"Merged dictionary:\", merged_dict)"
   ]
  },
  {
   "cell_type": "markdown",
   "id": "62eaf687",
   "metadata": {},
   "source": [
    "### 4. Write a Python program to convert key-values list to flat dictionary?"
   ]
  },
  {
   "cell_type": "code",
   "execution_count": 4,
   "id": "0cd6b37d",
   "metadata": {},
   "outputs": [
    {
     "name": "stdout",
     "output_type": "stream",
     "text": [
      "Flat dictionary: {'a': 1, 'b': 2, 'c': 3, 'd': 4}\n"
     ]
    }
   ],
   "source": [
    "def list_to_flat_dictionary(kv_list):\n",
    "    flat_dict = {}\n",
    "    for pair in kv_list:\n",
    "        # Check if the pair is a valid key-value pair\n",
    "        if len(pair) == 2:\n",
    "            key, value = pair\n",
    "            flat_dict[key] = value\n",
    "    return flat_dict\n",
    "\n",
    "# Example list of key-value pairs\n",
    "key_values_list = [('a', 1), ('b', 2), ('c', 3), ('d', 4)]\n",
    "\n",
    "# Convert list to flat dictionary\n",
    "flat_dictionary = list_to_flat_dictionary(key_values_list)\n",
    "\n",
    "# Print the flat dictionary\n",
    "print(\"Flat dictionary:\", flat_dictionary)"
   ]
  },
  {
   "cell_type": "markdown",
   "id": "fcc5015f",
   "metadata": {},
   "source": [
    "### 5. Write a Python program to insertion at the beginning in OrderedDict?"
   ]
  },
  {
   "cell_type": "code",
   "execution_count": 5,
   "id": "db105468",
   "metadata": {},
   "outputs": [
    {
     "name": "stdout",
     "output_type": "stream",
     "text": [
      "Updated OrderedDict: OrderedDict([('z', 100), ('a', 1), ('b', 2), ('c', 3)])\n"
     ]
    }
   ],
   "source": [
    "from collections import OrderedDict\n",
    "\n",
    "def insert_at_beginning(ordered_dict, key, value):\n",
    "    new_ordered_dict = OrderedDict([(key, value)])\n",
    "    for k, v in ordered_dict.items():\n",
    "        new_ordered_dict[k] = v\n",
    "    return new_ordered_dict\n",
    "\n",
    "# Example OrderedDict\n",
    "ordered_dict = OrderedDict([('a', 1), ('b', 2), ('c', 3)])\n",
    "\n",
    "# Key-value pair to insert at the beginning\n",
    "new_key = 'z'\n",
    "new_value = 100\n",
    "\n",
    "# Insert at the beginning\n",
    "updated_ordered_dict = insert_at_beginning(ordered_dict, new_key, new_value)\n",
    "\n",
    "# Print the updated OrderedDict\n",
    "print(\"Updated OrderedDict:\", updated_ordered_dict)"
   ]
  },
  {
   "cell_type": "markdown",
   "id": "5978c9ab",
   "metadata": {},
   "source": [
    "### 6. Write a Python program to check order of character in string using OrderedDict()?"
   ]
  },
  {
   "cell_type": "code",
   "execution_count": 6,
   "id": "fceb42bc",
   "metadata": {},
   "outputs": [
    {
     "name": "stdout",
     "output_type": "stream",
     "text": [
      "Order of characters in 'hello' is preserved: False\n",
      "Order of characters in 'world' is preserved: True\n",
      "Order of characters in 'helloworld' is preserved: False\n"
     ]
    }
   ],
   "source": [
    "from collections import OrderedDict\n",
    "\n",
    "def check_order_of_characters(string):\n",
    "    # Create an OrderedDict to store the characters and their positions\n",
    "    char_positions = OrderedDict()\n",
    "\n",
    "    # Iterate through the string\n",
    "    for char in string:\n",
    "        # Add the character to the OrderedDict if it's not already present\n",
    "        if char not in char_positions:\n",
    "            char_positions[char] = len(char_positions)\n",
    "\n",
    "    # Convert the keys of the OrderedDict into a string\n",
    "    ordered_chars = ''.join(char_positions.keys())\n",
    "\n",
    "    # Check if the ordered characters match the original string\n",
    "    if ordered_chars == string:\n",
    "        return True\n",
    "    else:\n",
    "        return False\n",
    "\n",
    "# Example strings\n",
    "string1 = \"hello\"\n",
    "string2 = \"world\"\n",
    "string3 = \"helloworld\"\n",
    "\n",
    "# Check order of characters in each string\n",
    "print(\"Order of characters in '{}' is preserved: {}\".format(string1, check_order_of_characters(string1)))\n",
    "print(\"Order of characters in '{}' is preserved: {}\".format(string2, check_order_of_characters(string2)))\n",
    "print(\"Order of characters in '{}' is preserved: {}\".format(string3, check_order_of_characters(string3)))"
   ]
  },
  {
   "cell_type": "markdown",
   "id": "f330da77",
   "metadata": {},
   "source": [
    "### 7. Write a Python program to sort Python Dictionaries by Key or Value?"
   ]
  },
  {
   "cell_type": "code",
   "execution_count": 7,
   "id": "394254db",
   "metadata": {},
   "outputs": [
    {
     "name": "stdout",
     "output_type": "stream",
     "text": [
      "Sorted dictionary by keys: {'apple': 1, 'banana': 3, 'orange': 2}\n"
     ]
    }
   ],
   "source": [
    "def sort_dictionary_by_keys(dictionary):\n",
    "    sorted_dict = dict(sorted(dictionary.items()))\n",
    "    return sorted_dict\n",
    "\n",
    "# Example dictionary\n",
    "my_dict = {'banana': 3, 'apple': 1, 'orange': 2}\n",
    "\n",
    "# Sort dictionary by keys\n",
    "sorted_by_keys = sort_dictionary_by_keys(my_dict)\n",
    "\n",
    "# Print sorted dictionary by keys\n",
    "print(\"Sorted dictionary by keys:\", sorted_by_keys)\n"
   ]
  },
  {
   "cell_type": "code",
   "execution_count": 8,
   "id": "73edc62c",
   "metadata": {},
   "outputs": [
    {
     "name": "stdout",
     "output_type": "stream",
     "text": [
      "Sorted dictionary by values: {'apple': 1, 'orange': 2, 'banana': 3}\n"
     ]
    }
   ],
   "source": [
    "def sort_dictionary_by_values(dictionary):\n",
    "    sorted_dict = dict(sorted(dictionary.items(), key=lambda item: item[1]))\n",
    "    return sorted_dict\n",
    "\n",
    "# Example dictionary\n",
    "my_dict = {'banana': 3, 'apple': 1, 'orange': 2}\n",
    "\n",
    "# Sort dictionary by values\n",
    "sorted_by_values = sort_dictionary_by_values(my_dict)\n",
    "\n",
    "# Print sorted dictionary by values\n",
    "print(\"Sorted dictionary by values:\", sorted_by_values)"
   ]
  },
  {
   "cell_type": "code",
   "execution_count": null,
   "id": "9e7f105f",
   "metadata": {},
   "outputs": [],
   "source": []
  }
 ],
 "metadata": {
  "kernelspec": {
   "display_name": "Python 3",
   "language": "python",
   "name": "python3"
  },
  "language_info": {
   "codemirror_mode": {
    "name": "ipython",
    "version": 3
   },
   "file_extension": ".py",
   "mimetype": "text/x-python",
   "name": "python",
   "nbconvert_exporter": "python",
   "pygments_lexer": "ipython3",
   "version": "3.8.8"
  }
 },
 "nbformat": 4,
 "nbformat_minor": 5
}
