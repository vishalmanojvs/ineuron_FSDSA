{
 "cells": [
  {
   "cell_type": "markdown",
   "id": "9b304197",
   "metadata": {},
   "source": [
    "# Python Basic Programming Assignment 8"
   ]
  },
  {
   "cell_type": "markdown",
   "id": "22789ae6",
   "metadata": {},
   "source": [
    "### 1. Write a Python Program to Add Two Matrices?"
   ]
  },
  {
   "cell_type": "code",
   "execution_count": 29,
   "id": "c0f29d77",
   "metadata": {},
   "outputs": [
    {
     "name": "stdout",
     "output_type": "stream",
     "text": [
      "Enter the elements in the 1*1 matrics: 2\n",
      "*************************\n",
      "Enter the 0th element in the 1st matrics: 0\n",
      "*************************\n",
      "Enter the 1th element in the 1st matrics: 1\n",
      "*************************\n",
      "Enter the 2th element in the 1st matrics: 2\n",
      "***************************************************************************\n",
      "*************************\n",
      "Enter the 0th element in the 1st matrics: 0\n",
      "*************************\n",
      "Enter the 1th element in the 1st matrics: 1\n",
      "*************************\n",
      "Enter the 2th element in the 1st matrics: 2\n",
      "***************************************************************************\n",
      "The matrix after adding is [0, 2, 4]\n"
     ]
    }
   ],
   "source": [
    "# Getting Input from the user\n",
    "a=[]\n",
    "b=[]\n",
    "c=[]\n",
    "n=int(input(\"Enter the elements in the 1*1 matrics: \"))\n",
    "for i in range(n+1):\n",
    "    print('*'*25)\n",
    "    r=int(input(f\"Enter the {i}th element in the 1st matrics: \"))\n",
    "    a.append(r)\n",
    "print('*'*50)\n",
    "for i in range(n+1):\n",
    "    print('*'*25)\n",
    "    e=int(input(f\"Enter the {i}th element in the 1st matrics: \"))\n",
    "    b.append(e)\n",
    "\n",
    "for i in range(n+1):\n",
    "    c.append(a[i]+b[i])\n",
    "print('*'*75)    \n",
    "print(f\"The matrix after adding is {c}\")"
   ]
  },
  {
   "cell_type": "markdown",
   "id": "044ceda6",
   "metadata": {},
   "source": [
    "### 2. Write a Python Program to Multiply Two Matrices?"
   ]
  },
  {
   "cell_type": "code",
   "execution_count": 30,
   "id": "0032ffdf",
   "metadata": {},
   "outputs": [
    {
     "name": "stdout",
     "output_type": "stream",
     "text": [
      "Matrix A:\n",
      "[1, 2, 3]\n",
      "[4, 5, 6]\n",
      "[7, 8, 9]\n",
      "\n",
      "Matrix B:\n",
      "[9, 8, 7]\n",
      "[6, 5, 4]\n",
      "[3, 2, 1]\n",
      "\n",
      "Resultant Matrix:\n",
      "[30, 24, 18]\n",
      "[84, 69, 54]\n",
      "[138, 114, 90]\n"
     ]
    }
   ],
   "source": [
    "def multiply_matrices(matrix1, matrix2):\n",
    "    result = []\n",
    "\n",
    "    if len(matrix1[0]) != len(matrix2):\n",
    "        print(\"Matrices cannot be multiplied. Inner dimensions do not match.\")\n",
    "        return None\n",
    "\n",
    "    for i in range(len(matrix1)):\n",
    "        result.append([0] * len(matrix2[0]))\n",
    "\n",
    "    for i in range(len(matrix1)):\n",
    "        for j in range(len(matrix2[0])):\n",
    "            for k in range(len(matrix2)):\n",
    "                result[i][j] += matrix1[i][k] * matrix2[k][j]\n",
    "\n",
    "    return result\n",
    "\n",
    "matrix_a = [\n",
    "    [1, 2, 3],\n",
    "    [4, 5, 6],\n",
    "    [7, 8, 9]\n",
    "]\n",
    "\n",
    "matrix_b = [\n",
    "    [9, 8, 7],\n",
    "    [6, 5, 4],\n",
    "    [3, 2, 1]\n",
    "]\n",
    "\n",
    "# Multiply matrices\n",
    "result_matrix = multiply_matrices(matrix_a, matrix_b)\n",
    "\n",
    "# Print the result\n",
    "if result_matrix:\n",
    "    print(\"Matrix A:\")\n",
    "    for row in matrix_a:\n",
    "        print(row)\n",
    "\n",
    "    print(\"\\nMatrix B:\")\n",
    "    for row in matrix_b:\n",
    "        print(row)\n",
    "\n",
    "    print(\"\\nResultant Matrix:\")\n",
    "    for row in result_matrix:\n",
    "        print(row)"
   ]
  },
  {
   "cell_type": "markdown",
   "id": "5f688e46",
   "metadata": {},
   "source": [
    "### 3. Write a Python Program to Transpose a Matrix?"
   ]
  },
  {
   "cell_type": "code",
   "execution_count": 31,
   "id": "37e4c828",
   "metadata": {},
   "outputs": [
    {
     "name": "stdout",
     "output_type": "stream",
     "text": [
      "Original Matrix:\n",
      "[1, 2, 3]\n",
      "[4, 5, 6]\n",
      "[7, 8, 9]\n",
      "\n",
      "Transposed Matrix:\n",
      "[1, 4, 7]\n",
      "[2, 5, 8]\n",
      "[3, 6, 9]\n"
     ]
    }
   ],
   "source": [
    "def transpose_matrix(matrix):\n",
    "    # Get the number of rows and columns of the original matrix\n",
    "    rows, cols = len(matrix), len(matrix[0])\n",
    "\n",
    "    # Create a new matrix with swapped rows and columns\n",
    "    transposed_matrix = [[0] * rows for _ in range(cols)]\n",
    "\n",
    "    # Fill in the transposed matrix\n",
    "    for i in range(rows):\n",
    "        for j in range(cols):\n",
    "            transposed_matrix[j][i] = matrix[i][j]\n",
    "\n",
    "    return transposed_matrix\n",
    "\n",
    "\n",
    "original_matrix = [\n",
    "    [1, 2, 3],\n",
    "    [4, 5, 6],\n",
    "    [7, 8, 9]\n",
    "]\n",
    "\n",
    "# Transpose the matrix\n",
    "transposed_matrix = transpose_matrix(original_matrix)\n",
    "\n",
    "# Print the original and transposed matrices\n",
    "print(\"Original Matrix:\")\n",
    "for row in original_matrix:\n",
    "    print(row)\n",
    "\n",
    "print(\"\\nTransposed Matrix:\")\n",
    "for row in transposed_matrix:\n",
    "    print(row)"
   ]
  },
  {
   "cell_type": "markdown",
   "id": "b2849025",
   "metadata": {},
   "source": [
    "\n",
    "### 4. Write a Python Program to Sort Words in Alphabetic Order?\n"
   ]
  },
  {
   "cell_type": "code",
   "execution_count": 32,
   "id": "ba285d9e",
   "metadata": {},
   "outputs": [
    {
     "name": "stdout",
     "output_type": "stream",
     "text": [
      "Enter the senternce :this is python world\n",
      "Original Sentence: this is python world\n",
      "Sorted Words: is python this world\n"
     ]
    }
   ],
   "source": [
    "def sort_words_alphabetically(sentence):\n",
    "    words = sentence.split()\n",
    "    sorted_words = sorted(words)\n",
    "    return sorted_words\n",
    "\n",
    "input_sentence = str(input(\"Enter the senternce :\"))\n",
    "\n",
    "sorted_words = sort_words_alphabetically(input_sentence)\n",
    "\n",
    "print(\"Original Sentence:\", input_sentence)\n",
    "print(\"Sorted Words:\", ' '.join(sorted_words))"
   ]
  },
  {
   "cell_type": "markdown",
   "id": "48ac7b24",
   "metadata": {},
   "source": [
    "### 5. Write a Python Program to Remove Punctuation From a String?"
   ]
  },
  {
   "cell_type": "code",
   "execution_count": 33,
   "id": "cd55587b",
   "metadata": {},
   "outputs": [
    {
     "name": "stdout",
     "output_type": "stream",
     "text": [
      "Original String: Hello, World! This is an example string with some punctuation.\n",
      "String without Punctuation: Hello World This is an example string with some punctuation\n"
     ]
    }
   ],
   "source": [
    "import string\n",
    "\n",
    "def remove_punctuation(input_string):\n",
    "    translator = str.maketrans(\"\", \"\", string.punctuation)\n",
    "    result_string = input_string.translate(translator)\n",
    "    return result_string\n",
    "\n",
    "input_string = \"Hello, World! This is an example string with some punctuation.\"\n",
    "\n",
    "\n",
    "result_string = remove_punctuation(input_string)\n",
    "\n",
    "\n",
    "print(\"Original String:\", input_string)\n",
    "print(\"String without Punctuation:\", result_string)"
   ]
  },
  {
   "cell_type": "code",
   "execution_count": null,
   "id": "fc1e604f",
   "metadata": {},
   "outputs": [],
   "source": []
  }
 ],
 "metadata": {
  "kernelspec": {
   "display_name": "Python 3",
   "language": "python",
   "name": "python3"
  },
  "language_info": {
   "codemirror_mode": {
    "name": "ipython",
    "version": 3
   },
   "file_extension": ".py",
   "mimetype": "text/x-python",
   "name": "python",
   "nbconvert_exporter": "python",
   "pygments_lexer": "ipython3",
   "version": "3.8.8"
  }
 },
 "nbformat": 4,
 "nbformat_minor": 5
}
