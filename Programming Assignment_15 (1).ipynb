{
 "cells": [
  {
   "cell_type": "markdown",
   "id": "7df6e6a0",
   "metadata": {},
   "source": [
    "## Python Basic Programming Assignment - 15\n",
    "-------------------"
   ]
  },
  {
   "cell_type": "markdown",
   "id": "de299c62",
   "metadata": {},
   "source": [
    "### 1. Please write a program using generator to print the numbers which can be divisible by 5 and 7 between 0 and n in comma separated form while n is input by console."
   ]
  },
  {
   "cell_type": "code",
   "execution_count": 1,
   "id": "10d11f0a",
   "metadata": {},
   "outputs": [
    {
     "name": "stdout",
     "output_type": "stream",
     "text": [
      "Enter the value of n: 8\n",
      "Numbers divisible by 5 and 7 between 0 and 8 : 0\n"
     ]
    }
   ],
   "source": [
    "def divisible_by_5_and_7_generator(n):\n",
    "    for i in range(n + 1):\n",
    "        if i % 5 == 0 and i % 7 == 0:\n",
    "            yield i\n",
    "\n",
    "# Input n from console\n",
    "n = int(input(\"Enter the value of n: \"))\n",
    "\n",
    "# Generate numbers divisible by 5 and 7 up to n\n",
    "result = divisible_by_5_and_7_generator(n)\n",
    "\n",
    "# Print the numbers in comma-separated form\n",
    "print(\"Numbers divisible by 5 and 7 between 0 and\", n, \":\", end=\" \")\n",
    "print(*result, sep=\", \")"
   ]
  },
  {
   "cell_type": "markdown",
   "id": "c04aab80",
   "metadata": {},
   "source": [
    "\n",
    "### 2. Please write a program using generator to print the even numbers between 0 and n in comma separated form while n is input by console."
   ]
  },
  {
   "cell_type": "code",
   "execution_count": 2,
   "id": "38bd3f95",
   "metadata": {},
   "outputs": [
    {
     "name": "stdout",
     "output_type": "stream",
     "text": [
      "Enter the value of n: 15\n",
      "Even numbers between 0 and 15 : 0, 2, 4, 6, 8, 10, 12, 14\n"
     ]
    }
   ],
   "source": [
    "def even_numbers_generator(n):\n",
    "    for i in range(n + 1):\n",
    "        if i % 2 == 0:\n",
    "            yield i\n",
    "\n",
    "# Input n from console\n",
    "n = int(input(\"Enter the value of n: \"))\n",
    "\n",
    "# Generate even numbers up to n\n",
    "result = even_numbers_generator(n)\n",
    "\n",
    "# Print the even numbers in comma-separated form\n",
    "print(\"Even numbers between 0 and\", n, \":\", end=\" \")\n",
    "print(*result, sep=\", \")"
   ]
  },
  {
   "cell_type": "markdown",
   "id": "35b72559",
   "metadata": {},
   "source": [
    "### 3. Please write a program using list comprehension to print the Fibonacci Sequence in comma separated form with a given n input by console."
   ]
  },
  {
   "cell_type": "code",
   "execution_count": 7,
   "id": "0fe61e5e",
   "metadata": {},
   "outputs": [
    {
     "name": "stdout",
     "output_type": "stream",
     "text": [
      "Fibonacci Sequence up to 5 terms: 0, 1, 1, 2, 3\n"
     ]
    }
   ],
   "source": [
    "def fibonacci_sequence(n):\n",
    "    sequence = []\n",
    "    a, b = 0, 1\n",
    "    for _ in range(n):\n",
    "        sequence.append(a)\n",
    "        a, b = b, a + b\n",
    "    return sequence\n",
    "\n",
    "# Set n to 5 for the first 5 terms of the Fibonacci sequence\n",
    "n = 5\n",
    "\n",
    "# Generate the Fibonacci sequence up to 5 terms using a loop\n",
    "fib_sequence = fibonacci_sequence(n)\n",
    "\n",
    "# Print the Fibonacci sequence in comma-separated form\n",
    "print(\"Fibonacci Sequence up to\", n, \"terms:\", end=\" \")\n",
    "print(*fib_sequence, sep=\", \")"
   ]
  },
  {
   "cell_type": "markdown",
   "id": "dea0be0f",
   "metadata": {},
   "source": [
    "\n",
    "### 4. Assuming that we have some email addresses in the \"username@companyname.com\" format, please write program to print the user name of a given email address. Both user names and company names are composed of letters only."
   ]
  },
  {
   "cell_type": "code",
   "execution_count": 8,
   "id": "0696c35f",
   "metadata": {},
   "outputs": [
    {
     "name": "stdout",
     "output_type": "stream",
     "text": [
      "Username: username\n"
     ]
    }
   ],
   "source": [
    "def extract_username(email):\n",
    "    # Split the email address at the \"@\" symbol\n",
    "    parts = email.split(\"@\")\n",
    "\n",
    "    # The username is the first part\n",
    "    username = parts[0]\n",
    "\n",
    "    return username\n",
    "\n",
    "# Example usage:\n",
    "email_address = \"username@companyname.com\"\n",
    "username = extract_username(email_address)\n",
    "print(\"Username:\", username)"
   ]
  },
  {
   "cell_type": "markdown",
   "id": "2834c88f",
   "metadata": {},
   "source": [
    "\n",
    "### 5. Define a class named Shape and its subclass Square. The Square class has an init function which takes a length as argument. Both classes have a area function which can print the area of the shape where Shape's area is 0 by default."
   ]
  },
  {
   "cell_type": "code",
   "execution_count": 9,
   "id": "f5fd9b19",
   "metadata": {},
   "outputs": [
    {
     "name": "stdout",
     "output_type": "stream",
     "text": [
      "Area of shape: 0\n",
      "Area of square: 25\n"
     ]
    }
   ],
   "source": [
    "class Shape:\n",
    "    def __init__(self):\n",
    "        pass\n",
    "    \n",
    "    def area(self):\n",
    "        return 0\n",
    "\n",
    "class Square(Shape):\n",
    "    def __init__(self, length):\n",
    "        self.length = length\n",
    "    \n",
    "    def area(self):\n",
    "        return self.length * self.length\n",
    "\n",
    "# Example usage:\n",
    "shape = Shape()\n",
    "print(\"Area of shape:\", shape.area())  # Output: 0\n",
    "\n",
    "square = Square(5)\n",
    "print(\"Area of square:\", square.area())  # Output: 25\n"
   ]
  },
  {
   "cell_type": "code",
   "execution_count": null,
   "id": "9273b080",
   "metadata": {},
   "outputs": [],
   "source": []
  }
 ],
 "metadata": {
  "kernelspec": {
   "display_name": "Python 3",
   "language": "python",
   "name": "python3"
  },
  "language_info": {
   "codemirror_mode": {
    "name": "ipython",
    "version": 3
   },
   "file_extension": ".py",
   "mimetype": "text/x-python",
   "name": "python",
   "nbconvert_exporter": "python",
   "pygments_lexer": "ipython3",
   "version": "3.8.8"
  }
 },
 "nbformat": 4,
 "nbformat_minor": 5
}
