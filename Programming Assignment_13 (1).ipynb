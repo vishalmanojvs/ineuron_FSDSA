{
 "cells": [
  {
   "cell_type": "markdown",
   "id": "62fd0c8e",
   "metadata": {},
   "source": [
    "# Python Programming Basic Assignment 13"
   ]
  },
  {
   "cell_type": "markdown",
   "id": "ed4a3c0b",
   "metadata": {},
   "source": [
    "\n",
    "### 1. Write a program that calculates and prints the value according to the given formula:\n",
    "Q = Square root of [(2 C D)/H]\n",
    "\n",
    "Following are the fixed values of C and H:\n",
    "\n",
    "C is 50. H is 30.\n",
    "\n",
    "D is the variable whose values should be input to your program in a comma-separated sequence.\n",
    "\n",
    "Example\n",
    "\n",
    "Let us assume the following comma separated input sequence is given to the program:\n",
    "\n",
    "100,150,180\n",
    "\n",
    "The output of the program should be:\n",
    "\n",
    "18,22,24"
   ]
  },
  {
   "cell_type": "code",
   "execution_count": 2,
   "id": "44a3f651",
   "metadata": {},
   "outputs": [
    {
     "name": "stdout",
     "output_type": "stream",
     "text": [
      "Enter the values of D (comma-separated): 50,9\n",
      "Output of the program: 12,5\n"
     ]
    }
   ],
   "source": [
    "import math\n",
    "\n",
    "def calculate_Q(D, C=50, H=30):\n",
    "    Q = math.sqrt((2 * C * D) / H)\n",
    "    return int(Q)  # Round down to the nearest integer\n",
    "\n",
    "# Input sequence of D values\n",
    "input_sequence = input(\"Enter the values of D (comma-separated): \")\n",
    "\n",
    "# Split the input sequence into individual values and convert them to integers\n",
    "D_values = [int(x) for x in input_sequence.split(',')]\n",
    "\n",
    "# Calculate Q for each D value and print the output\n",
    "output = [calculate_Q(D) for D in D_values]\n",
    "print(\"Output of the program:\", ','.join(map(str, output)))"
   ]
  },
  {
   "cell_type": "markdown",
   "id": "ed37b6ed",
   "metadata": {},
   "source": [
    "### 2. Write a program which takes 2 digits, X,Y as input and generates a 2-dimensional array. The element value in the i-th row and j-th column of the array should be i*j."
   ]
  },
  {
   "cell_type": "code",
   "execution_count": 3,
   "id": "06c03651",
   "metadata": {},
   "outputs": [
    {
     "name": "stdout",
     "output_type": "stream",
     "text": [
      "Enter the number of rows (X): 5\n",
      "Enter the number of columns (Y): 5\n",
      "Generated 2-dimensional array:\n",
      "[0, 0, 0, 0, 0]\n",
      "[0, 1, 2, 3, 4]\n",
      "[0, 2, 4, 6, 8]\n",
      "[0, 3, 6, 9, 12]\n",
      "[0, 4, 8, 12, 16]\n"
     ]
    }
   ],
   "source": [
    "def generate_2d_array(X, Y):\n",
    "    # Initialize an empty 2-dimensional array\n",
    "    result = []\n",
    "\n",
    "    # Iterate over rows (i) from 0 to X-1\n",
    "    for i in range(X):\n",
    "        # Initialize an empty row\n",
    "        row = []\n",
    "        # Iterate over columns (j) from 0 to Y-1\n",
    "        for j in range(Y):\n",
    "            # Calculate the value for the current cell and append it to the row\n",
    "            row.append(i * j)\n",
    "        # Append the row to the result\n",
    "        result.append(row)\n",
    "\n",
    "    return result\n",
    "\n",
    "# Take input for X and Y\n",
    "X = int(input(\"Enter the number of rows (X): \"))\n",
    "Y = int(input(\"Enter the number of columns (Y): \"))\n",
    "\n",
    "# Generate the 2-dimensional array\n",
    "result_array = generate_2d_array(X, Y)\n",
    "\n",
    "# Print the result\n",
    "print(\"Generated 2-dimensional array:\")\n",
    "for row in result_array:\n",
    "    print(row)"
   ]
  },
  {
   "cell_type": "markdown",
   "id": "bc7f977b",
   "metadata": {},
   "source": [
    "### 3. Write a program that accepts a comma separated sequence of words as input and prints the words in a comma-separated sequence after sorting them alphabetically."
   ]
  },
  {
   "cell_type": "code",
   "execution_count": 4,
   "id": "efe4ec61",
   "metadata": {},
   "outputs": [
    {
     "name": "stdout",
     "output_type": "stream",
     "text": [
      "Enter comma-separated sequence of words: words, nmut\n",
      "Sorted words: nmut, words\n"
     ]
    }
   ],
   "source": [
    "def sort_words(input_sequence):\n",
    "    # Split the input sequence into a list of words\n",
    "    words = input_sequence.split(',')\n",
    "\n",
    "    # Remove leading and trailing whitespace from each word and sort them alphabetically\n",
    "    sorted_words = sorted([word.strip() for word in words])\n",
    "\n",
    "    # Join the sorted words into a comma-separated string\n",
    "    sorted_sequence = ', '.join(sorted_words)\n",
    "\n",
    "    return sorted_sequence\n",
    "\n",
    "# Input comma-separated sequence of words\n",
    "input_sequence = input(\"Enter comma-separated sequence of words: \")\n",
    "\n",
    "# Sort the words and print the result\n",
    "sorted_sequence = sort_words(input_sequence)\n",
    "print(\"Sorted words:\", sorted_sequence)"
   ]
  },
  {
   "cell_type": "markdown",
   "id": "171c3d90",
   "metadata": {},
   "source": [
    "### 4. Write a program that accepts a sequence of whitespace separated words as input and prints the words after removing all duplicate words and sorting them alphanumerically."
   ]
  },
  {
   "cell_type": "code",
   "execution_count": 5,
   "id": "5030b521",
   "metadata": {},
   "outputs": [
    {
     "name": "stdout",
     "output_type": "stream",
     "text": [
      "Enter sequence of whitespace-separated words: iugFO JADSUIFH\n",
      "Words after removing duplicates and sorting alphabetically: JADSUIFH iugFO\n"
     ]
    }
   ],
   "source": [
    "def remove_duplicates_and_sort(input_sequence):\n",
    "    # Split the input sequence into a list of words\n",
    "    words = input_sequence.split()\n",
    "\n",
    "    # Convert the list of words into a set to remove duplicates\n",
    "    unique_words = set(words)\n",
    "\n",
    "    # Sort the unique words alphabetically\n",
    "    sorted_words = sorted(unique_words)\n",
    "\n",
    "    # Join the sorted words into a whitespace-separated string\n",
    "    sorted_sequence = ' '.join(sorted_words)\n",
    "\n",
    "    return sorted_sequence\n",
    "\n",
    "# Input sequence of whitespace-separated words\n",
    "input_sequence = input(\"Enter sequence of whitespace-separated words: \")\n",
    "\n",
    "# Remove duplicates, sort the words, and print the result\n",
    "sorted_sequence = remove_duplicates_and_sort(input_sequence)\n",
    "print(\"Words after removing duplicates and sorting alphabetically:\", sorted_sequence)"
   ]
  },
  {
   "cell_type": "markdown",
   "id": "88d25c49",
   "metadata": {},
   "source": [
    "### 5. Write a program that accepts a sentence and calculate the number of letters and digits."
   ]
  },
  {
   "cell_type": "code",
   "execution_count": 6,
   "id": "a648634e",
   "metadata": {},
   "outputs": [
    {
     "name": "stdout",
     "output_type": "stream",
     "text": [
      "Enter a sentence: THE LION IS SINGING\n",
      "Number of letters: 16\n",
      "Number of digits: 0\n"
     ]
    }
   ],
   "source": [
    "def count_letters_and_digits(sentence):\n",
    "    num_letters = 0\n",
    "    num_digits = 0\n",
    "\n",
    "    # Iterate over each character in the sentence\n",
    "    for char in sentence:\n",
    "        # Check if the character is a letter\n",
    "        if char.isalpha():\n",
    "            num_letters += 1\n",
    "        # Check if the character is a digit\n",
    "        elif char.isdigit():\n",
    "            num_digits += 1\n",
    "\n",
    "    return num_letters, num_digits\n",
    "\n",
    "# Input sentence\n",
    "sentence = input(\"Enter a sentence: \")\n",
    "\n",
    "# Calculate the number of letters and digits\n",
    "letters, digits = count_letters_and_digits(sentence)\n",
    "\n",
    "# Print the result\n",
    "print(\"Number of letters:\", letters)\n",
    "print(\"Number of digits:\", digits)"
   ]
  },
  {
   "cell_type": "markdown",
   "id": "9695c4ca",
   "metadata": {},
   "source": [
    "### 6. A website requires the users to input username and password to register. Write a program to check the validity of password input by users."
   ]
  },
  {
   "cell_type": "code",
   "execution_count": 7,
   "id": "28f35780",
   "metadata": {},
   "outputs": [
    {
     "name": "stdout",
     "output_type": "stream",
     "text": [
      "Enter your password: SANJANA345\n",
      "Password is invalid.\n"
     ]
    }
   ],
   "source": [
    "import re\n",
    "\n",
    "def is_valid_password(password):\n",
    "    # Check if password length is between 8 and 20 characters\n",
    "    if not 8 <= len(password) <= 20:\n",
    "        return False\n",
    "\n",
    "    # Check if password contains at least one uppercase letter\n",
    "    if not re.search(r'[A-Z]', password):\n",
    "        return False\n",
    "\n",
    "    # Check if password contains at least one lowercase letter\n",
    "    if not re.search(r'[a-z]', password):\n",
    "        return False\n",
    "\n",
    "    # Check if password contains at least one digit\n",
    "    if not re.search(r'\\d', password):\n",
    "        return False\n",
    "\n",
    "    # Check if password contains at least one special character\n",
    "    if not re.search(r'[!@#$%^&*(),.?\":{}|<>]', password):\n",
    "        return False\n",
    "\n",
    "    # All conditions passed, so the password is valid\n",
    "    return True\n",
    "\n",
    "# Main function to test the program\n",
    "def main():\n",
    "    # Input password from the user\n",
    "    password = input(\"Enter your password: \")\n",
    "\n",
    "    # Check the validity of the password\n",
    "    if is_valid_password(password):\n",
    "        print(\"Password is valid.\")\n",
    "    else:\n",
    "        print(\"Password is invalid.\")\n",
    "\n",
    "if __name__ == \"__main__\":\n",
    "    main()\n"
   ]
  },
  {
   "cell_type": "code",
   "execution_count": null,
   "id": "72112834",
   "metadata": {},
   "outputs": [],
   "source": []
  }
 ],
 "metadata": {
  "kernelspec": {
   "display_name": "Python 3",
   "language": "python",
   "name": "python3"
  },
  "language_info": {
   "codemirror_mode": {
    "name": "ipython",
    "version": 3
   },
   "file_extension": ".py",
   "mimetype": "text/x-python",
   "name": "python",
   "nbconvert_exporter": "python",
   "pygments_lexer": "ipython3",
   "version": "3.8.8"
  }
 },
 "nbformat": 4,
 "nbformat_minor": 5
}
