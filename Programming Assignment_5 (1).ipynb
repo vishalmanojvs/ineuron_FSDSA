{
 "cells": [
  {
   "cell_type": "markdown",
   "id": "4ac9602a",
   "metadata": {},
   "source": [
    "## Python Basic Programming Assignment - 5\n",
    "--------------\n"
   ]
  },
  {
   "cell_type": "markdown",
   "id": "fdaeee06",
   "metadata": {},
   "source": [
    "### 1. Write a Python Program to Find LCM?"
   ]
  },
  {
   "cell_type": "code",
   "execution_count": 3,
   "id": "a041503a",
   "metadata": {},
   "outputs": [
    {
     "name": "stdout",
     "output_type": "stream",
     "text": [
      "***************************************************************************\n",
      "Enter space-separated numbers to find their LCM: 6 8 9 7 8\n",
      "***************************************************************************\n",
      "The LCM of [6, 8, 9, 7, 8] is: 504\n",
      "***************************************************************************\n"
     ]
    }
   ],
   "source": [
    "def find_gcd(x, y):\n",
    "    while y:\n",
    "        x, y = y, x % y\n",
    "    return x\n",
    "\n",
    "def find_lcm_of_list(numbers):\n",
    "    lcm = 1\n",
    "    for num in numbers:\n",
    "        gcd = find_gcd(lcm, num)\n",
    "        lcm = (lcm * num) // gcd\n",
    "    return lcm\n",
    "print(\"*\"*75)\n",
    "# Get user input for the list of numbers\n",
    "num_list = list(map(int, input(\"Enter space-separated numbers to find their LCM: \").split()))\n",
    "print(\"*\"*75)\n",
    "# Find and display the LCM\n",
    "lcm_result = find_lcm_of_list(num_list)\n",
    "print(f\"The LCM of {num_list} is: {lcm_result}\")\n",
    "print(\"*\"*75)"
   ]
  },
  {
   "cell_type": "markdown",
   "id": "2f459cdf",
   "metadata": {},
   "source": [
    "### 2. Write a Python Program to Find HCF?"
   ]
  },
  {
   "cell_type": "code",
   "execution_count": 1,
   "id": "540ce288",
   "metadata": {},
   "outputs": [
    {
     "name": "stdout",
     "output_type": "stream",
     "text": [
      "***************************************************************************\n",
      "Enter first number: 8\n",
      "Enter second number: 9\n",
      "***************************************************************************\n",
      "The HCF of 8 and 9 is 1\n",
      "***************************************************************************\n"
     ]
    }
   ],
   "source": [
    "def find_hcf(x, y):\n",
    "    # Choose the smaller number\n",
    "    if x > y:\n",
    "        smaller = y\n",
    "    else:\n",
    "        smaller = x\n",
    "\n",
    "    # Iterate from 1 to the smaller number\n",
    "    for i in range(1, smaller+1):\n",
    "        if (x % i == 0) and (y % i == 0):\n",
    "            hcf = i\n",
    "\n",
    "    return hcf\n",
    "print(\"*\"*75)\n",
    "# Input from user\n",
    "num1 = int(input(\"Enter first number: \"))\n",
    "num2 = int(input(\"Enter second number: \"))\n",
    "print(\"*\"*75)\n",
    "result_hcf = find_hcf(num1, num2)\n",
    "print(f\"The HCF of {num1} and {num2} is {result_hcf}\")\n",
    "print(\"*\"*75)"
   ]
  },
  {
   "cell_type": "markdown",
   "id": "d2c29370",
   "metadata": {},
   "source": [
    "### 3. Write a Python Program to Convert Decimal to Binary, Octal and Hexadecimal?"
   ]
  },
  {
   "cell_type": "code",
   "execution_count": 4,
   "id": "558a50ce",
   "metadata": {},
   "outputs": [
    {
     "name": "stdout",
     "output_type": "stream",
     "text": [
      "***************************************************************************\n",
      "Enter a decimal number: 999\n",
      "***************************************************************************\n",
      "***************************************************************************\n",
      "Binary representation: 1111100111\n",
      "Octal representation: 1747\n",
      "Hexadecimal representation: 3e7\n",
      "***************************************************************************\n"
     ]
    }
   ],
   "source": [
    "def decimal_to_binary(decimal_num):\n",
    "    return bin(decimal_num).replace(\"0b\", \"\")\n",
    "\n",
    "def decimal_to_octal(decimal_num):\n",
    "    return oct(decimal_num).replace(\"0o\", \"\")\n",
    "\n",
    "def decimal_to_hexadecimal(decimal_num):\n",
    "    return hex(decimal_num).replace(\"0x\", \"\")\n",
    "\n",
    "# Input from user\n",
    "print(\"*\"*75)\n",
    "decimal_number = int(input(\"Enter a decimal number: \"))\n",
    "print(\"*\"*75)\n",
    "binary_result = decimal_to_binary(decimal_number)\n",
    "octal_result = decimal_to_octal(decimal_number)\n",
    "hexadecimal_result = decimal_to_hexadecimal(decimal_number)\n",
    "print(\"*\"*75)\n",
    "print(f\"Binary representation: {binary_result}\")\n",
    "print(f\"Octal representation: {octal_result}\")\n",
    "print(f\"Hexadecimal representation: {hexadecimal_result}\")\n",
    "print(\"*\"*75)"
   ]
  },
  {
   "cell_type": "markdown",
   "id": "2a16c5fd",
   "metadata": {},
   "source": [
    "### 4. Write a Python Program To Find ASCII value of a character?"
   ]
  },
  {
   "cell_type": "code",
   "execution_count": 7,
   "id": "d222d0be",
   "metadata": {},
   "outputs": [
    {
     "name": "stdout",
     "output_type": "stream",
     "text": [
      "Enter a character: e\n",
      "***************************************************************************\n",
      "***************************************************************************\n",
      "The ASCII value of 'e' is 101\n",
      "***************************************************************************\n"
     ]
    }
   ],
   "source": [
    "# Get input character from the user\n",
    "char = input(\"Enter a character: \")\n",
    "print(\"*\"*75)\n",
    "# Use the ord() function to get the ASCII value of the character\n",
    "ascii_value = ord(char)\n",
    "print(\"*\"*75)\n",
    "# Display the result\n",
    "print(f\"The ASCII value of '{char}' is {ascii_value}\")\n",
    "print(\"*\"*75)"
   ]
  },
  {
   "cell_type": "markdown",
   "id": "226778a0",
   "metadata": {},
   "source": [
    "### 5. Write a Python Program to Make a Simple Calculator with 4 basic mathematical operations?"
   ]
  },
  {
   "cell_type": "code",
   "execution_count": 15,
   "id": "c137e1bf",
   "metadata": {},
   "outputs": [
    {
     "name": "stdout",
     "output_type": "stream",
     "text": [
      "***************************************************************************\n",
      "11\n",
      "0.8333333333333334\n",
      "0.8333333333333334\n",
      "0.8333333333333334\n",
      "***************************************************************************\n"
     ]
    }
   ],
   "source": [
    "def add(a,b):\n",
    "    print(a+b)\n",
    "def mul(a,b):\n",
    "    print(a*b)\n",
    "def div(a,b):\n",
    "    print(a/b)\n",
    "def sub(a,b):\n",
    "    print(a/b)\n",
    "print(\"*\"*75)\n",
    "add(5,6)\n",
    "sub(5,6)\n",
    "div(5,6)\n",
    "sub(5,6)\n",
    "print(\"*\"*75)"
   ]
  },
  {
   "cell_type": "code",
   "execution_count": null,
   "id": "30df2063",
   "metadata": {},
   "outputs": [],
   "source": []
  }
 ],
 "metadata": {
  "kernelspec": {
   "display_name": "Python 3",
   "language": "python",
   "name": "python3"
  },
  "language_info": {
   "codemirror_mode": {
    "name": "ipython",
    "version": 3
   },
   "file_extension": ".py",
   "mimetype": "text/x-python",
   "name": "python",
   "nbconvert_exporter": "python",
   "pygments_lexer": "ipython3",
   "version": "3.8.8"
  }
 },
 "nbformat": 4,
 "nbformat_minor": 5
}
